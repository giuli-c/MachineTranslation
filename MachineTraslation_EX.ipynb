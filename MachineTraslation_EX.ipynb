{
  "cells": [
    {
      "cell_type": "markdown",
      "metadata": {
        "id": "view-in-github",
        "colab_type": "text"
      },
      "source": [
        "<a href=\"https://colab.research.google.com/github/giuli-c/MachineTranslation/blob/main/MachineTraslation_EX.ipynb\" target=\"_parent\"><img src=\"https://colab.research.google.com/assets/colab-badge.svg\" alt=\"Open In Colab\"/></a>"
      ]
    },
    {
      "cell_type": "markdown",
      "id": "aae9f53a-236b-449f-84ff-462941d513a1",
      "metadata": {
        "id": "aae9f53a-236b-449f-84ff-462941d513a1"
      },
      "source": [
        "## Esercitazione: Machine Translation\n",
        "Costruire un modello sequenziale per la traduzione (dall'inglese all'italiano). Il modello prende una sequenza in inglese e torna in output una sequenza in italiano:\n",
        "\n",
        "1. Definire un modello che abbia uno strato di embedding e almeno due strati ricorrenti e in uscita uno strato Dense con il numero di neuroni pari al vocabolario per la traduzione (italiano)/\n",
        "NB: Per migliorare le performance sullo strato Dense conviene applicare un layer TimeDistributed in questo modo TimeDistributed(Dense())\n",
        "> Il layer TimeDistributed() in Keras è una \"scorciatoia intelligente\" per applicare lo stesso layer (es. Dense) a ogni passo di una sequenza temporalmente strutturata (come testo, audio, serie temporali...).\\\n",
        "> IN POCHE PAROLE, SENZA USARE UN FLATTEN O GlobalAveragePooling1D che mi permettono di passare da un input 3D ad un 1D dello strato Dense, TimeDistributed, mi  permette di paplicare Dense direttamente su un tensore 3D.\\\n",
        ">\n",
        "ESEMPIO:\\\n",
        "x = TimeDistributed(Dense(32))(x)\\\n",
        "\"Per ogni delle 5 parole, applica la stessa rete Dense(32)\"\\\n",
        "Caso d'uso:\n",
        "* Dopo LSTM(return_sequences=True) >\tApplichi un classificatore a ogni step\n",
        "* Video frame per frame            >\tCNN su ogni fotogramma\n",
        "* Testo parola per parola\t         >  Dense su ogni embedding\n",
        "2. Eseguire l'addestramento per almeno 100 epoche"
      ]
    },
    {
      "cell_type": "code",
      "source": [
        "!pip install mlflow"
      ],
      "metadata": {
        "colab": {
          "base_uri": "https://localhost:8080/"
        },
        "id": "qTmBiQNao_KW",
        "outputId": "e422a760-ae85-4ed1-a39c-8fbc5ac8e03e"
      },
      "id": "qTmBiQNao_KW",
      "execution_count": 23,
      "outputs": [
        {
          "output_type": "stream",
          "name": "stdout",
          "text": [
            "Collecting mlflow\n",
            "  Downloading mlflow-2.21.3-py3-none-any.whl.metadata (30 kB)\n",
            "Collecting mlflow-skinny==2.21.3 (from mlflow)\n",
            "  Downloading mlflow_skinny-2.21.3-py3-none-any.whl.metadata (31 kB)\n",
            "Requirement already satisfied: Flask<4 in /usr/local/lib/python3.11/dist-packages (from mlflow) (3.1.0)\n",
            "Requirement already satisfied: Jinja2<4,>=2.11 in /usr/local/lib/python3.11/dist-packages (from mlflow) (3.1.6)\n",
            "Collecting alembic!=1.10.0,<2 (from mlflow)\n",
            "  Downloading alembic-1.15.2-py3-none-any.whl.metadata (7.3 kB)\n",
            "Collecting docker<8,>=4.0.0 (from mlflow)\n",
            "  Downloading docker-7.1.0-py3-none-any.whl.metadata (3.8 kB)\n",
            "Collecting graphene<4 (from mlflow)\n",
            "  Downloading graphene-3.4.3-py2.py3-none-any.whl.metadata (6.9 kB)\n",
            "Collecting gunicorn<24 (from mlflow)\n",
            "  Downloading gunicorn-23.0.0-py3-none-any.whl.metadata (4.4 kB)\n",
            "Requirement already satisfied: markdown<4,>=3.3 in /usr/local/lib/python3.11/dist-packages (from mlflow) (3.7)\n",
            "Requirement already satisfied: matplotlib<4 in /usr/local/lib/python3.11/dist-packages (from mlflow) (3.10.0)\n",
            "Requirement already satisfied: numpy<3 in /usr/local/lib/python3.11/dist-packages (from mlflow) (2.0.2)\n",
            "Requirement already satisfied: pandas<3 in /usr/local/lib/python3.11/dist-packages (from mlflow) (2.2.2)\n",
            "Requirement already satisfied: pyarrow<20,>=4.0.0 in /usr/local/lib/python3.11/dist-packages (from mlflow) (18.1.0)\n",
            "Requirement already satisfied: scikit-learn<2 in /usr/local/lib/python3.11/dist-packages (from mlflow) (1.6.1)\n",
            "Requirement already satisfied: scipy<2 in /usr/local/lib/python3.11/dist-packages (from mlflow) (1.14.1)\n",
            "Requirement already satisfied: sqlalchemy<3,>=1.4.0 in /usr/local/lib/python3.11/dist-packages (from mlflow) (2.0.40)\n",
            "Requirement already satisfied: cachetools<6,>=5.0.0 in /usr/local/lib/python3.11/dist-packages (from mlflow-skinny==2.21.3->mlflow) (5.5.2)\n",
            "Requirement already satisfied: click<9,>=7.0 in /usr/local/lib/python3.11/dist-packages (from mlflow-skinny==2.21.3->mlflow) (8.1.8)\n",
            "Requirement already satisfied: cloudpickle<4 in /usr/local/lib/python3.11/dist-packages (from mlflow-skinny==2.21.3->mlflow) (3.1.1)\n",
            "Collecting databricks-sdk<1,>=0.20.0 (from mlflow-skinny==2.21.3->mlflow)\n",
            "  Downloading databricks_sdk-0.49.0-py3-none-any.whl.metadata (38 kB)\n",
            "Collecting fastapi<1 (from mlflow-skinny==2.21.3->mlflow)\n",
            "  Downloading fastapi-0.115.12-py3-none-any.whl.metadata (27 kB)\n",
            "Requirement already satisfied: gitpython<4,>=3.1.9 in /usr/local/lib/python3.11/dist-packages (from mlflow-skinny==2.21.3->mlflow) (3.1.44)\n",
            "Requirement already satisfied: importlib_metadata!=4.7.0,<9,>=3.7.0 in /usr/local/lib/python3.11/dist-packages (from mlflow-skinny==2.21.3->mlflow) (8.6.1)\n",
            "Requirement already satisfied: opentelemetry-api<3,>=1.9.0 in /usr/local/lib/python3.11/dist-packages (from mlflow-skinny==2.21.3->mlflow) (1.31.1)\n",
            "Requirement already satisfied: opentelemetry-sdk<3,>=1.9.0 in /usr/local/lib/python3.11/dist-packages (from mlflow-skinny==2.21.3->mlflow) (1.31.1)\n",
            "Requirement already satisfied: packaging<25 in /usr/local/lib/python3.11/dist-packages (from mlflow-skinny==2.21.3->mlflow) (24.2)\n",
            "Requirement already satisfied: protobuf<6,>=3.12.0 in /usr/local/lib/python3.11/dist-packages (from mlflow-skinny==2.21.3->mlflow) (5.29.4)\n",
            "Requirement already satisfied: pydantic<3,>=1.10.8 in /usr/local/lib/python3.11/dist-packages (from mlflow-skinny==2.21.3->mlflow) (2.11.1)\n",
            "Requirement already satisfied: pyyaml<7,>=5.1 in /usr/local/lib/python3.11/dist-packages (from mlflow-skinny==2.21.3->mlflow) (6.0.2)\n",
            "Requirement already satisfied: requests<3,>=2.17.3 in /usr/local/lib/python3.11/dist-packages (from mlflow-skinny==2.21.3->mlflow) (2.32.3)\n",
            "Requirement already satisfied: sqlparse<1,>=0.4.0 in /usr/local/lib/python3.11/dist-packages (from mlflow-skinny==2.21.3->mlflow) (0.5.3)\n",
            "Requirement already satisfied: typing-extensions<5,>=4.0.0 in /usr/local/lib/python3.11/dist-packages (from mlflow-skinny==2.21.3->mlflow) (4.13.0)\n",
            "Collecting uvicorn<1 (from mlflow-skinny==2.21.3->mlflow)\n",
            "  Downloading uvicorn-0.34.0-py3-none-any.whl.metadata (6.5 kB)\n",
            "Requirement already satisfied: Mako in /usr/lib/python3/dist-packages (from alembic!=1.10.0,<2->mlflow) (1.1.3)\n",
            "Requirement already satisfied: urllib3>=1.26.0 in /usr/local/lib/python3.11/dist-packages (from docker<8,>=4.0.0->mlflow) (2.3.0)\n",
            "Requirement already satisfied: Werkzeug>=3.1 in /usr/local/lib/python3.11/dist-packages (from Flask<4->mlflow) (3.1.3)\n",
            "Requirement already satisfied: itsdangerous>=2.2 in /usr/local/lib/python3.11/dist-packages (from Flask<4->mlflow) (2.2.0)\n",
            "Requirement already satisfied: blinker>=1.9 in /usr/local/lib/python3.11/dist-packages (from Flask<4->mlflow) (1.9.0)\n",
            "Collecting graphql-core<3.3,>=3.1 (from graphene<4->mlflow)\n",
            "  Downloading graphql_core-3.2.6-py3-none-any.whl.metadata (11 kB)\n",
            "Collecting graphql-relay<3.3,>=3.1 (from graphene<4->mlflow)\n",
            "  Downloading graphql_relay-3.2.0-py3-none-any.whl.metadata (12 kB)\n",
            "Requirement already satisfied: python-dateutil<3,>=2.7.0 in /usr/local/lib/python3.11/dist-packages (from graphene<4->mlflow) (2.8.2)\n",
            "Requirement already satisfied: MarkupSafe>=2.0 in /usr/local/lib/python3.11/dist-packages (from Jinja2<4,>=2.11->mlflow) (3.0.2)\n",
            "Requirement already satisfied: contourpy>=1.0.1 in /usr/local/lib/python3.11/dist-packages (from matplotlib<4->mlflow) (1.3.1)\n",
            "Requirement already satisfied: cycler>=0.10 in /usr/local/lib/python3.11/dist-packages (from matplotlib<4->mlflow) (0.12.1)\n",
            "Requirement already satisfied: fonttools>=4.22.0 in /usr/local/lib/python3.11/dist-packages (from matplotlib<4->mlflow) (4.56.0)\n",
            "Requirement already satisfied: kiwisolver>=1.3.1 in /usr/local/lib/python3.11/dist-packages (from matplotlib<4->mlflow) (1.4.8)\n",
            "Requirement already satisfied: pillow>=8 in /usr/local/lib/python3.11/dist-packages (from matplotlib<4->mlflow) (11.1.0)\n",
            "Requirement already satisfied: pyparsing>=2.3.1 in /usr/local/lib/python3.11/dist-packages (from matplotlib<4->mlflow) (3.2.3)\n",
            "Requirement already satisfied: pytz>=2020.1 in /usr/local/lib/python3.11/dist-packages (from pandas<3->mlflow) (2025.2)\n",
            "Requirement already satisfied: tzdata>=2022.7 in /usr/local/lib/python3.11/dist-packages (from pandas<3->mlflow) (2025.2)\n",
            "Requirement already satisfied: joblib>=1.2.0 in /usr/local/lib/python3.11/dist-packages (from scikit-learn<2->mlflow) (1.4.2)\n",
            "Requirement already satisfied: threadpoolctl>=3.1.0 in /usr/local/lib/python3.11/dist-packages (from scikit-learn<2->mlflow) (3.6.0)\n",
            "Requirement already satisfied: greenlet>=1 in /usr/local/lib/python3.11/dist-packages (from sqlalchemy<3,>=1.4.0->mlflow) (3.1.1)\n",
            "Requirement already satisfied: google-auth~=2.0 in /usr/local/lib/python3.11/dist-packages (from databricks-sdk<1,>=0.20.0->mlflow-skinny==2.21.3->mlflow) (2.38.0)\n",
            "Collecting starlette<0.47.0,>=0.40.0 (from fastapi<1->mlflow-skinny==2.21.3->mlflow)\n",
            "  Downloading starlette-0.46.1-py3-none-any.whl.metadata (6.2 kB)\n",
            "Requirement already satisfied: gitdb<5,>=4.0.1 in /usr/local/lib/python3.11/dist-packages (from gitpython<4,>=3.1.9->mlflow-skinny==2.21.3->mlflow) (4.0.12)\n",
            "Requirement already satisfied: zipp>=3.20 in /usr/local/lib/python3.11/dist-packages (from importlib_metadata!=4.7.0,<9,>=3.7.0->mlflow-skinny==2.21.3->mlflow) (3.21.0)\n",
            "Requirement already satisfied: deprecated>=1.2.6 in /usr/local/lib/python3.11/dist-packages (from opentelemetry-api<3,>=1.9.0->mlflow-skinny==2.21.3->mlflow) (1.2.18)\n",
            "Requirement already satisfied: opentelemetry-semantic-conventions==0.52b1 in /usr/local/lib/python3.11/dist-packages (from opentelemetry-sdk<3,>=1.9.0->mlflow-skinny==2.21.3->mlflow) (0.52b1)\n",
            "Requirement already satisfied: annotated-types>=0.6.0 in /usr/local/lib/python3.11/dist-packages (from pydantic<3,>=1.10.8->mlflow-skinny==2.21.3->mlflow) (0.7.0)\n",
            "Requirement already satisfied: pydantic-core==2.33.0 in /usr/local/lib/python3.11/dist-packages (from pydantic<3,>=1.10.8->mlflow-skinny==2.21.3->mlflow) (2.33.0)\n",
            "Requirement already satisfied: typing-inspection>=0.4.0 in /usr/local/lib/python3.11/dist-packages (from pydantic<3,>=1.10.8->mlflow-skinny==2.21.3->mlflow) (0.4.0)\n",
            "Requirement already satisfied: six>=1.5 in /usr/local/lib/python3.11/dist-packages (from python-dateutil<3,>=2.7.0->graphene<4->mlflow) (1.17.0)\n",
            "Requirement already satisfied: charset-normalizer<4,>=2 in /usr/local/lib/python3.11/dist-packages (from requests<3,>=2.17.3->mlflow-skinny==2.21.3->mlflow) (3.4.1)\n",
            "Requirement already satisfied: idna<4,>=2.5 in /usr/local/lib/python3.11/dist-packages (from requests<3,>=2.17.3->mlflow-skinny==2.21.3->mlflow) (3.10)\n",
            "Requirement already satisfied: certifi>=2017.4.17 in /usr/local/lib/python3.11/dist-packages (from requests<3,>=2.17.3->mlflow-skinny==2.21.3->mlflow) (2025.1.31)\n",
            "Requirement already satisfied: h11>=0.8 in /usr/local/lib/python3.11/dist-packages (from uvicorn<1->mlflow-skinny==2.21.3->mlflow) (0.14.0)\n",
            "Requirement already satisfied: wrapt<2,>=1.10 in /usr/local/lib/python3.11/dist-packages (from deprecated>=1.2.6->opentelemetry-api<3,>=1.9.0->mlflow-skinny==2.21.3->mlflow) (1.17.2)\n",
            "Requirement already satisfied: smmap<6,>=3.0.1 in /usr/local/lib/python3.11/dist-packages (from gitdb<5,>=4.0.1->gitpython<4,>=3.1.9->mlflow-skinny==2.21.3->mlflow) (5.0.2)\n",
            "Requirement already satisfied: pyasn1-modules>=0.2.1 in /usr/local/lib/python3.11/dist-packages (from google-auth~=2.0->databricks-sdk<1,>=0.20.0->mlflow-skinny==2.21.3->mlflow) (0.4.2)\n",
            "Requirement already satisfied: rsa<5,>=3.1.4 in /usr/local/lib/python3.11/dist-packages (from google-auth~=2.0->databricks-sdk<1,>=0.20.0->mlflow-skinny==2.21.3->mlflow) (4.9)\n",
            "Requirement already satisfied: anyio<5,>=3.6.2 in /usr/local/lib/python3.11/dist-packages (from starlette<0.47.0,>=0.40.0->fastapi<1->mlflow-skinny==2.21.3->mlflow) (4.9.0)\n",
            "Requirement already satisfied: sniffio>=1.1 in /usr/local/lib/python3.11/dist-packages (from anyio<5,>=3.6.2->starlette<0.47.0,>=0.40.0->fastapi<1->mlflow-skinny==2.21.3->mlflow) (1.3.1)\n",
            "Requirement already satisfied: pyasn1<0.7.0,>=0.6.1 in /usr/local/lib/python3.11/dist-packages (from pyasn1-modules>=0.2.1->google-auth~=2.0->databricks-sdk<1,>=0.20.0->mlflow-skinny==2.21.3->mlflow) (0.6.1)\n",
            "Downloading mlflow-2.21.3-py3-none-any.whl (28.2 MB)\n",
            "\u001b[2K   \u001b[90m━━━━━━━━━━━━━━━━━━━━━━━━━━━━━━━━━━━━━━━━\u001b[0m \u001b[32m28.2/28.2 MB\u001b[0m \u001b[31m65.3 MB/s\u001b[0m eta \u001b[36m0:00:00\u001b[0m\n",
            "\u001b[?25hDownloading mlflow_skinny-2.21.3-py3-none-any.whl (6.1 MB)\n",
            "\u001b[2K   \u001b[90m━━━━━━━━━━━━━━━━━━━━━━━━━━━━━━━━━━━━━━━━\u001b[0m \u001b[32m6.1/6.1 MB\u001b[0m \u001b[31m104.2 MB/s\u001b[0m eta \u001b[36m0:00:00\u001b[0m\n",
            "\u001b[?25hDownloading alembic-1.15.2-py3-none-any.whl (231 kB)\n",
            "\u001b[2K   \u001b[90m━━━━━━━━━━━━━━━━━━━━━━━━━━━━━━━━━━━━━━━━\u001b[0m \u001b[32m231.9/231.9 kB\u001b[0m \u001b[31m18.3 MB/s\u001b[0m eta \u001b[36m0:00:00\u001b[0m\n",
            "\u001b[?25hDownloading docker-7.1.0-py3-none-any.whl (147 kB)\n",
            "\u001b[2K   \u001b[90m━━━━━━━━━━━━━━━━━━━━━━━━━━━━━━━━━━━━━━━━\u001b[0m \u001b[32m147.8/147.8 kB\u001b[0m \u001b[31m14.5 MB/s\u001b[0m eta \u001b[36m0:00:00\u001b[0m\n",
            "\u001b[?25hDownloading graphene-3.4.3-py2.py3-none-any.whl (114 kB)\n",
            "\u001b[2K   \u001b[90m━━━━━━━━━━━━━━━━━━━━━━━━━━━━━━━━━━━━━━━━\u001b[0m \u001b[32m114.9/114.9 kB\u001b[0m \u001b[31m10.0 MB/s\u001b[0m eta \u001b[36m0:00:00\u001b[0m\n",
            "\u001b[?25hDownloading gunicorn-23.0.0-py3-none-any.whl (85 kB)\n",
            "\u001b[2K   \u001b[90m━━━━━━━━━━━━━━━━━━━━━━━━━━━━━━━━━━━━━━━━\u001b[0m \u001b[32m85.0/85.0 kB\u001b[0m \u001b[31m8.8 MB/s\u001b[0m eta \u001b[36m0:00:00\u001b[0m\n",
            "\u001b[?25hDownloading databricks_sdk-0.49.0-py3-none-any.whl (683 kB)\n",
            "\u001b[2K   \u001b[90m━━━━━━━━━━━━━━━━━━━━━━━━━━━━━━━━━━━━━━━━\u001b[0m \u001b[32m684.0/684.0 kB\u001b[0m \u001b[31m52.1 MB/s\u001b[0m eta \u001b[36m0:00:00\u001b[0m\n",
            "\u001b[?25hDownloading fastapi-0.115.12-py3-none-any.whl (95 kB)\n",
            "\u001b[2K   \u001b[90m━━━━━━━━━━━━━━━━━━━━━━━━━━━━━━━━━━━━━━━━\u001b[0m \u001b[32m95.2/95.2 kB\u001b[0m \u001b[31m9.2 MB/s\u001b[0m eta \u001b[36m0:00:00\u001b[0m\n",
            "\u001b[?25hDownloading graphql_core-3.2.6-py3-none-any.whl (203 kB)\n",
            "\u001b[2K   \u001b[90m━━━━━━━━━━━━━━━━━━━━━━━━━━━━━━━━━━━━━━━━\u001b[0m \u001b[32m203.4/203.4 kB\u001b[0m \u001b[31m20.1 MB/s\u001b[0m eta \u001b[36m0:00:00\u001b[0m\n",
            "\u001b[?25hDownloading graphql_relay-3.2.0-py3-none-any.whl (16 kB)\n",
            "Downloading uvicorn-0.34.0-py3-none-any.whl (62 kB)\n",
            "\u001b[2K   \u001b[90m━━━━━━━━━━━━━━━━━━━━━━━━━━━━━━━━━━━━━━━━\u001b[0m \u001b[32m62.3/62.3 kB\u001b[0m \u001b[31m6.4 MB/s\u001b[0m eta \u001b[36m0:00:00\u001b[0m\n",
            "\u001b[?25hDownloading starlette-0.46.1-py3-none-any.whl (71 kB)\n",
            "\u001b[2K   \u001b[90m━━━━━━━━━━━━━━━━━━━━━━━━━━━━━━━━━━━━━━━━\u001b[0m \u001b[32m72.0/72.0 kB\u001b[0m \u001b[31m7.3 MB/s\u001b[0m eta \u001b[36m0:00:00\u001b[0m\n",
            "\u001b[?25hInstalling collected packages: uvicorn, gunicorn, graphql-core, starlette, graphql-relay, docker, alembic, graphene, fastapi, databricks-sdk, mlflow-skinny, mlflow\n",
            "Successfully installed alembic-1.15.2 databricks-sdk-0.49.0 docker-7.1.0 fastapi-0.115.12 graphene-3.4.3 graphql-core-3.2.6 graphql-relay-3.2.0 gunicorn-23.0.0 mlflow-2.21.3 mlflow-skinny-2.21.3 starlette-0.46.1 uvicorn-0.34.0\n"
          ]
        }
      ]
    },
    {
      "cell_type": "code",
      "execution_count": 1,
      "id": "6016012c-a1b9-477d-a85c-50fc773ebe3c",
      "metadata": {
        "id": "6016012c-a1b9-477d-a85c-50fc773ebe3c"
      },
      "outputs": [],
      "source": [
        "import warnings\n",
        "warnings.filterwarnings(\"ignore\")\n",
        "import os\n",
        "os.environ[\"TF_CPP_MIN_LOG_LEVEL\"] = '3'\n",
        "import tensorflow as tf\n",
        "tf.compat.v1.logging.set_verbosity(tf.compat.v1.logging.ERROR)"
      ]
    },
    {
      "cell_type": "code",
      "execution_count": 2,
      "id": "5a0d349e-e7c9-42dc-81da-17829586798e",
      "metadata": {
        "id": "5a0d349e-e7c9-42dc-81da-17829586798e"
      },
      "outputs": [],
      "source": [
        "import pandas as pd\n",
        "import numpy as np\n",
        "\n",
        "from sklearn.model_selection import train_test_split\n",
        "from tensorflow.keras.preprocessing.text import Tokenizer\n",
        "from tensorflow.keras.preprocessing.sequence import pad_sequences\n",
        "from tensorflow.keras.models import Sequential\n",
        "from tensorflow.keras.layers import Embedding, Dense, TimeDistributed\n",
        "from tensorflow.keras.layers import SimpleRNN, LSTM, GRU, Bidirectional\n",
        "from keras.backend import clear_session"
      ]
    },
    {
      "cell_type": "markdown",
      "id": "b5c753f8-0629-489d-a640-fa3f1879b4fb",
      "metadata": {
        "id": "b5c753f8-0629-489d-a640-fa3f1879b4fb"
      },
      "source": [
        "## 1. DATASET"
      ]
    },
    {
      "cell_type": "code",
      "execution_count": 3,
      "id": "3f437856-abd9-413b-b3c9-73d809536445",
      "metadata": {
        "colab": {
          "base_uri": "https://localhost:8080/",
          "height": 206
        },
        "id": "3f437856-abd9-413b-b3c9-73d809536445",
        "outputId": "fd6f2f58-7b2b-499d-e195-2869e75b23de"
      },
      "outputs": [
        {
          "output_type": "execute_result",
          "data": {
            "text/plain": [
              "                    italian               english\n",
              "0         tom portò i suoi.      tom brought his.\n",
              "1  a te non piace il pesce?  don't you like fish?\n",
              "2     non abbiamo mai riso.     we never laughed.\n",
              "3       aspetti un momento.     hang on a moment.\n",
              "4          quando è finito?    when did that end?"
            ],
            "text/html": [
              "\n",
              "  <div id=\"df-c1005848-0e74-42c9-843a-95e1654efac2\" class=\"colab-df-container\">\n",
              "    <div>\n",
              "<style scoped>\n",
              "    .dataframe tbody tr th:only-of-type {\n",
              "        vertical-align: middle;\n",
              "    }\n",
              "\n",
              "    .dataframe tbody tr th {\n",
              "        vertical-align: top;\n",
              "    }\n",
              "\n",
              "    .dataframe thead th {\n",
              "        text-align: right;\n",
              "    }\n",
              "</style>\n",
              "<table border=\"1\" class=\"dataframe\">\n",
              "  <thead>\n",
              "    <tr style=\"text-align: right;\">\n",
              "      <th></th>\n",
              "      <th>italian</th>\n",
              "      <th>english</th>\n",
              "    </tr>\n",
              "  </thead>\n",
              "  <tbody>\n",
              "    <tr>\n",
              "      <th>0</th>\n",
              "      <td>tom portò i suoi.</td>\n",
              "      <td>tom brought his.</td>\n",
              "    </tr>\n",
              "    <tr>\n",
              "      <th>1</th>\n",
              "      <td>a te non piace il pesce?</td>\n",
              "      <td>don't you like fish?</td>\n",
              "    </tr>\n",
              "    <tr>\n",
              "      <th>2</th>\n",
              "      <td>non abbiamo mai riso.</td>\n",
              "      <td>we never laughed.</td>\n",
              "    </tr>\n",
              "    <tr>\n",
              "      <th>3</th>\n",
              "      <td>aspetti un momento.</td>\n",
              "      <td>hang on a moment.</td>\n",
              "    </tr>\n",
              "    <tr>\n",
              "      <th>4</th>\n",
              "      <td>quando è finito?</td>\n",
              "      <td>when did that end?</td>\n",
              "    </tr>\n",
              "  </tbody>\n",
              "</table>\n",
              "</div>\n",
              "    <div class=\"colab-df-buttons\">\n",
              "\n",
              "  <div class=\"colab-df-container\">\n",
              "    <button class=\"colab-df-convert\" onclick=\"convertToInteractive('df-c1005848-0e74-42c9-843a-95e1654efac2')\"\n",
              "            title=\"Convert this dataframe to an interactive table.\"\n",
              "            style=\"display:none;\">\n",
              "\n",
              "  <svg xmlns=\"http://www.w3.org/2000/svg\" height=\"24px\" viewBox=\"0 -960 960 960\">\n",
              "    <path d=\"M120-120v-720h720v720H120Zm60-500h600v-160H180v160Zm220 220h160v-160H400v160Zm0 220h160v-160H400v160ZM180-400h160v-160H180v160Zm440 0h160v-160H620v160ZM180-180h160v-160H180v160Zm440 0h160v-160H620v160Z\"/>\n",
              "  </svg>\n",
              "    </button>\n",
              "\n",
              "  <style>\n",
              "    .colab-df-container {\n",
              "      display:flex;\n",
              "      gap: 12px;\n",
              "    }\n",
              "\n",
              "    .colab-df-convert {\n",
              "      background-color: #E8F0FE;\n",
              "      border: none;\n",
              "      border-radius: 50%;\n",
              "      cursor: pointer;\n",
              "      display: none;\n",
              "      fill: #1967D2;\n",
              "      height: 32px;\n",
              "      padding: 0 0 0 0;\n",
              "      width: 32px;\n",
              "    }\n",
              "\n",
              "    .colab-df-convert:hover {\n",
              "      background-color: #E2EBFA;\n",
              "      box-shadow: 0px 1px 2px rgba(60, 64, 67, 0.3), 0px 1px 3px 1px rgba(60, 64, 67, 0.15);\n",
              "      fill: #174EA6;\n",
              "    }\n",
              "\n",
              "    .colab-df-buttons div {\n",
              "      margin-bottom: 4px;\n",
              "    }\n",
              "\n",
              "    [theme=dark] .colab-df-convert {\n",
              "      background-color: #3B4455;\n",
              "      fill: #D2E3FC;\n",
              "    }\n",
              "\n",
              "    [theme=dark] .colab-df-convert:hover {\n",
              "      background-color: #434B5C;\n",
              "      box-shadow: 0px 1px 3px 1px rgba(0, 0, 0, 0.15);\n",
              "      filter: drop-shadow(0px 1px 2px rgba(0, 0, 0, 0.3));\n",
              "      fill: #FFFFFF;\n",
              "    }\n",
              "  </style>\n",
              "\n",
              "    <script>\n",
              "      const buttonEl =\n",
              "        document.querySelector('#df-c1005848-0e74-42c9-843a-95e1654efac2 button.colab-df-convert');\n",
              "      buttonEl.style.display =\n",
              "        google.colab.kernel.accessAllowed ? 'block' : 'none';\n",
              "\n",
              "      async function convertToInteractive(key) {\n",
              "        const element = document.querySelector('#df-c1005848-0e74-42c9-843a-95e1654efac2');\n",
              "        const dataTable =\n",
              "          await google.colab.kernel.invokeFunction('convertToInteractive',\n",
              "                                                    [key], {});\n",
              "        if (!dataTable) return;\n",
              "\n",
              "        const docLinkHtml = 'Like what you see? Visit the ' +\n",
              "          '<a target=\"_blank\" href=https://colab.research.google.com/notebooks/data_table.ipynb>data table notebook</a>'\n",
              "          + ' to learn more about interactive tables.';\n",
              "        element.innerHTML = '';\n",
              "        dataTable['output_type'] = 'display_data';\n",
              "        await google.colab.output.renderOutput(dataTable, element);\n",
              "        const docLink = document.createElement('div');\n",
              "        docLink.innerHTML = docLinkHtml;\n",
              "        element.appendChild(docLink);\n",
              "      }\n",
              "    </script>\n",
              "  </div>\n",
              "\n",
              "\n",
              "<div id=\"df-763542fc-35b5-4632-81ba-de8d2e4fa953\">\n",
              "  <button class=\"colab-df-quickchart\" onclick=\"quickchart('df-763542fc-35b5-4632-81ba-de8d2e4fa953')\"\n",
              "            title=\"Suggest charts\"\n",
              "            style=\"display:none;\">\n",
              "\n",
              "<svg xmlns=\"http://www.w3.org/2000/svg\" height=\"24px\"viewBox=\"0 0 24 24\"\n",
              "     width=\"24px\">\n",
              "    <g>\n",
              "        <path d=\"M19 3H5c-1.1 0-2 .9-2 2v14c0 1.1.9 2 2 2h14c1.1 0 2-.9 2-2V5c0-1.1-.9-2-2-2zM9 17H7v-7h2v7zm4 0h-2V7h2v10zm4 0h-2v-4h2v4z\"/>\n",
              "    </g>\n",
              "</svg>\n",
              "  </button>\n",
              "\n",
              "<style>\n",
              "  .colab-df-quickchart {\n",
              "      --bg-color: #E8F0FE;\n",
              "      --fill-color: #1967D2;\n",
              "      --hover-bg-color: #E2EBFA;\n",
              "      --hover-fill-color: #174EA6;\n",
              "      --disabled-fill-color: #AAA;\n",
              "      --disabled-bg-color: #DDD;\n",
              "  }\n",
              "\n",
              "  [theme=dark] .colab-df-quickchart {\n",
              "      --bg-color: #3B4455;\n",
              "      --fill-color: #D2E3FC;\n",
              "      --hover-bg-color: #434B5C;\n",
              "      --hover-fill-color: #FFFFFF;\n",
              "      --disabled-bg-color: #3B4455;\n",
              "      --disabled-fill-color: #666;\n",
              "  }\n",
              "\n",
              "  .colab-df-quickchart {\n",
              "    background-color: var(--bg-color);\n",
              "    border: none;\n",
              "    border-radius: 50%;\n",
              "    cursor: pointer;\n",
              "    display: none;\n",
              "    fill: var(--fill-color);\n",
              "    height: 32px;\n",
              "    padding: 0;\n",
              "    width: 32px;\n",
              "  }\n",
              "\n",
              "  .colab-df-quickchart:hover {\n",
              "    background-color: var(--hover-bg-color);\n",
              "    box-shadow: 0 1px 2px rgba(60, 64, 67, 0.3), 0 1px 3px 1px rgba(60, 64, 67, 0.15);\n",
              "    fill: var(--button-hover-fill-color);\n",
              "  }\n",
              "\n",
              "  .colab-df-quickchart-complete:disabled,\n",
              "  .colab-df-quickchart-complete:disabled:hover {\n",
              "    background-color: var(--disabled-bg-color);\n",
              "    fill: var(--disabled-fill-color);\n",
              "    box-shadow: none;\n",
              "  }\n",
              "\n",
              "  .colab-df-spinner {\n",
              "    border: 2px solid var(--fill-color);\n",
              "    border-color: transparent;\n",
              "    border-bottom-color: var(--fill-color);\n",
              "    animation:\n",
              "      spin 1s steps(1) infinite;\n",
              "  }\n",
              "\n",
              "  @keyframes spin {\n",
              "    0% {\n",
              "      border-color: transparent;\n",
              "      border-bottom-color: var(--fill-color);\n",
              "      border-left-color: var(--fill-color);\n",
              "    }\n",
              "    20% {\n",
              "      border-color: transparent;\n",
              "      border-left-color: var(--fill-color);\n",
              "      border-top-color: var(--fill-color);\n",
              "    }\n",
              "    30% {\n",
              "      border-color: transparent;\n",
              "      border-left-color: var(--fill-color);\n",
              "      border-top-color: var(--fill-color);\n",
              "      border-right-color: var(--fill-color);\n",
              "    }\n",
              "    40% {\n",
              "      border-color: transparent;\n",
              "      border-right-color: var(--fill-color);\n",
              "      border-top-color: var(--fill-color);\n",
              "    }\n",
              "    60% {\n",
              "      border-color: transparent;\n",
              "      border-right-color: var(--fill-color);\n",
              "    }\n",
              "    80% {\n",
              "      border-color: transparent;\n",
              "      border-right-color: var(--fill-color);\n",
              "      border-bottom-color: var(--fill-color);\n",
              "    }\n",
              "    90% {\n",
              "      border-color: transparent;\n",
              "      border-bottom-color: var(--fill-color);\n",
              "    }\n",
              "  }\n",
              "</style>\n",
              "\n",
              "  <script>\n",
              "    async function quickchart(key) {\n",
              "      const quickchartButtonEl =\n",
              "        document.querySelector('#' + key + ' button');\n",
              "      quickchartButtonEl.disabled = true;  // To prevent multiple clicks.\n",
              "      quickchartButtonEl.classList.add('colab-df-spinner');\n",
              "      try {\n",
              "        const charts = await google.colab.kernel.invokeFunction(\n",
              "            'suggestCharts', [key], {});\n",
              "      } catch (error) {\n",
              "        console.error('Error during call to suggestCharts:', error);\n",
              "      }\n",
              "      quickchartButtonEl.classList.remove('colab-df-spinner');\n",
              "      quickchartButtonEl.classList.add('colab-df-quickchart-complete');\n",
              "    }\n",
              "    (() => {\n",
              "      let quickchartButtonEl =\n",
              "        document.querySelector('#df-763542fc-35b5-4632-81ba-de8d2e4fa953 button');\n",
              "      quickchartButtonEl.style.display =\n",
              "        google.colab.kernel.accessAllowed ? 'block' : 'none';\n",
              "    })();\n",
              "  </script>\n",
              "</div>\n",
              "\n",
              "    </div>\n",
              "  </div>\n"
            ],
            "application/vnd.google.colaboratory.intrinsic+json": {
              "type": "dataframe",
              "variable_name": "df",
              "summary": "{\n  \"name\": \"df\",\n  \"rows\": 50000,\n  \"fields\": [\n    {\n      \"column\": \"italian\",\n      \"properties\": {\n        \"dtype\": \"string\",\n        \"num_unique_values\": 46793,\n        \"samples\": [\n          \"le piace l'estate?\",\n          \"so come funziona.\",\n          \"io avevo intenzione di dirvelo.\"\n        ],\n        \"semantic_type\": \"\",\n        \"description\": \"\"\n      }\n    },\n    {\n      \"column\": \"english\",\n      \"properties\": {\n        \"dtype\": \"string\",\n        \"num_unique_values\": 25420,\n        \"samples\": [\n          \"he arrived safely.\",\n          \"you're needed here.\",\n          \"i like rain.\"\n        ],\n        \"semantic_type\": \"\",\n        \"description\": \"\"\n      }\n    }\n  ]\n}"
            }
          },
          "metadata": {},
          "execution_count": 3
        }
      ],
      "source": [
        "df = pd.read_csv(\"machine_translation.csv\")\n",
        "df.head()"
      ]
    },
    {
      "cell_type": "markdown",
      "id": "01f01789-0e19-4340-85c4-41962af48be2",
      "metadata": {
        "id": "01f01789-0e19-4340-85c4-41962af48be2"
      },
      "source": [
        "## 2. DEFINIZIONE X,Y"
      ]
    },
    {
      "cell_type": "code",
      "execution_count": 4,
      "id": "fc44fdbc-e122-4df4-82b5-fabab734ee6a",
      "metadata": {
        "id": "fc44fdbc-e122-4df4-82b5-fabab734ee6a"
      },
      "outputs": [],
      "source": [
        "x = df[\"english\"].values\n",
        "y = df[\"italian\"].values"
      ]
    },
    {
      "cell_type": "code",
      "execution_count": 5,
      "id": "4e7efc05-1eeb-4e0b-9c6c-3fa831e5d869",
      "metadata": {
        "colab": {
          "base_uri": "https://localhost:8080/"
        },
        "id": "4e7efc05-1eeb-4e0b-9c6c-3fa831e5d869",
        "outputId": "cf6f8067-5ddd-4377-cb85-be6e9fac0384"
      },
      "outputs": [
        {
          "output_type": "stream",
          "name": "stdout",
          "text": [
            "(50000,) (50000,)\n"
          ]
        }
      ],
      "source": [
        "print(x.shape, y.shape)"
      ]
    },
    {
      "cell_type": "markdown",
      "id": "abb721ff-c7ab-4acb-b4f9-b8fb5fc77a2b",
      "metadata": {
        "id": "abb721ff-c7ab-4acb-b4f9-b8fb5fc77a2b"
      },
      "source": [
        "## 3. TRAIN_TEST_SPLIT"
      ]
    },
    {
      "cell_type": "code",
      "execution_count": 5,
      "id": "82ba5fdd-9021-4f02-9eff-a8d4712360f3",
      "metadata": {
        "id": "82ba5fdd-9021-4f02-9eff-a8d4712360f3"
      },
      "outputs": [],
      "source": [
        "xtrain, xtest, ytrain, ytest = train_test_split(x,y, test_size=.2,random_state=1)"
      ]
    },
    {
      "cell_type": "code",
      "execution_count": 8,
      "id": "5c223447-447b-405d-966e-31ff524df85e",
      "metadata": {
        "colab": {
          "base_uri": "https://localhost:8080/"
        },
        "id": "5c223447-447b-405d-966e-31ff524df85e",
        "outputId": "454a0056-b68b-4487-91e0-137d592c56ce"
      },
      "outputs": [
        {
          "output_type": "stream",
          "name": "stdout",
          "text": [
            "(40000,) (10000,)\n"
          ]
        }
      ],
      "source": [
        "print(xtrain.shape, xtest.shape)"
      ]
    },
    {
      "cell_type": "markdown",
      "id": "0716bb52-ac0c-4775-91fe-afbfff10a195",
      "metadata": {
        "id": "0716bb52-ac0c-4775-91fe-afbfff10a195"
      },
      "source": [
        "## 4. TOKENIZER"
      ]
    },
    {
      "cell_type": "code",
      "execution_count": 6,
      "id": "16b84b95-eb80-4c6f-9f81-b3120655354e",
      "metadata": {
        "id": "16b84b95-eb80-4c6f-9f81-b3120655354e"
      },
      "outputs": [],
      "source": [
        "tokenizer_eng = Tokenizer(num_words=50000)\n",
        "tokenizer_ita = Tokenizer(num_words=50000)"
      ]
    },
    {
      "cell_type": "markdown",
      "id": "3a022642-d2dd-44ee-baef-c2d77eb47c3d",
      "metadata": {
        "id": "3a022642-d2dd-44ee-baef-c2d77eb47c3d"
      },
      "source": [
        "## 5. DEFINIZIONE DEL VOCABOLARIO"
      ]
    },
    {
      "cell_type": "code",
      "execution_count": 7,
      "id": "5adba4b2-988a-4ed8-b612-2ea056516e80",
      "metadata": {
        "id": "5adba4b2-988a-4ed8-b612-2ea056516e80"
      },
      "outputs": [],
      "source": [
        "tokenizer_eng.fit_on_texts(xtrain)\n",
        "tokenizer_ita.fit_on_texts(ytrain)"
      ]
    },
    {
      "cell_type": "code",
      "execution_count": 8,
      "id": "20870fcb-6baf-47a3-b1e6-63b67a636a03",
      "metadata": {
        "colab": {
          "base_uri": "https://localhost:8080/"
        },
        "id": "20870fcb-6baf-47a3-b1e6-63b67a636a03",
        "outputId": "c6f41fd1-f28e-48bb-98b9-fdfa9a9269cc"
      },
      "outputs": [
        {
          "output_type": "execute_result",
          "data": {
            "text/plain": [
              "4932"
            ]
          },
          "metadata": {},
          "execution_count": 8
        }
      ],
      "source": [
        "vocabolary_eng = len(tokenizer_eng.index_word)+1\n",
        "vocabolary_eng"
      ]
    },
    {
      "cell_type": "code",
      "execution_count": 9,
      "id": "5b73d2e6-559e-4367-a92d-ad538cc23aa8",
      "metadata": {
        "colab": {
          "base_uri": "https://localhost:8080/"
        },
        "id": "5b73d2e6-559e-4367-a92d-ad538cc23aa8",
        "outputId": "7a98a803-02d8-4fdb-8cb4-50d90511e213"
      },
      "outputs": [
        {
          "output_type": "execute_result",
          "data": {
            "text/plain": [
              "10005"
            ]
          },
          "metadata": {},
          "execution_count": 9
        }
      ],
      "source": [
        "vocabolary_ita = len(tokenizer_ita.index_word)+1\n",
        "vocabolary_ita"
      ]
    },
    {
      "cell_type": "markdown",
      "id": "01a17a20-4b70-4f0c-bdce-7e1b04aede0e",
      "metadata": {
        "id": "01a17a20-4b70-4f0c-bdce-7e1b04aede0e"
      },
      "source": [
        "## 6. COSTRUZIONE DELLE SEQUENZE"
      ]
    },
    {
      "cell_type": "code",
      "execution_count": 10,
      "id": "a5e2936c-d4bc-4b6c-b105-427714867cce",
      "metadata": {
        "id": "a5e2936c-d4bc-4b6c-b105-427714867cce"
      },
      "outputs": [],
      "source": [
        "train_sequences_eng = tokenizer_eng.texts_to_sequences(xtrain)\n",
        "test_sequences_eng = tokenizer_eng.texts_to_sequences(xtest)\n",
        "train_sequences_ita = tokenizer_ita.texts_to_sequences(ytrain)\n",
        "test_sequences_ita = tokenizer_ita.texts_to_sequences(ytest)"
      ]
    },
    {
      "cell_type": "code",
      "execution_count": 11,
      "id": "e8229f9e-b301-4221-9703-9f9e3cedf04c",
      "metadata": {
        "id": "e8229f9e-b301-4221-9703-9f9e3cedf04c"
      },
      "outputs": [],
      "source": [
        "maxlen_eng = len(max(train_sequences_eng, key=len))\n",
        "maxlen_ita = len(max(train_sequences_ita, key=len))"
      ]
    },
    {
      "cell_type": "code",
      "execution_count": 15,
      "id": "57f45ccc-8a8c-4eca-9a3b-ae5e37947ea6",
      "metadata": {
        "colab": {
          "base_uri": "https://localhost:8080/"
        },
        "id": "57f45ccc-8a8c-4eca-9a3b-ae5e37947ea6",
        "outputId": "de24f94e-41f5-43b0-98f7-d714f8665f6c"
      },
      "outputs": [
        {
          "output_type": "stream",
          "name": "stdout",
          "text": [
            "MAXLEN ENG: 6, MAXLEN ITA: 10\n"
          ]
        }
      ],
      "source": [
        "print(f\"MAXLEN ENG: {maxlen_eng}, MAXLEN ITA: {maxlen_ita}\")"
      ]
    },
    {
      "cell_type": "markdown",
      "id": "79a403e7-e53b-4663-8419-2d37443dfbbd",
      "metadata": {
        "id": "79a403e7-e53b-4663-8419-2d37443dfbbd"
      },
      "source": [
        "## 7. PADDING"
      ]
    },
    {
      "cell_type": "code",
      "execution_count": 12,
      "id": "630c23c4-1c32-4454-aaf7-1ee2142cc9a1",
      "metadata": {
        "colab": {
          "base_uri": "https://localhost:8080/"
        },
        "id": "630c23c4-1c32-4454-aaf7-1ee2142cc9a1",
        "outputId": "f3b6ef37-9dc2-4fd4-8a1e-79f3a1b2533b"
      },
      "outputs": [
        {
          "output_type": "stream",
          "name": "stdout",
          "text": [
            "ENG:  [[   0    0    2    4   40 2026]\n",
            " [   0    0    1   29   22   88]\n",
            " [   0    0    0    8   43  421]\n",
            " ...\n",
            " [   0    0    0   16  379 3084]\n",
            " [   0    0    1 1586    5  844]\n",
            " [   0    0    0  107   13  521]] [[   0    0    0    2    4  577]\n",
            " [   0    0    1   53   28    6]\n",
            " [   0    0    0    2    4 1327]\n",
            " ...\n",
            " [   0   14    6   22  636  349]\n",
            " [   0    1   21    9  408   76]\n",
            " [   0    0   25    3  798   19]]\n",
            "ITA:  [[   0    0    0 ...    2   31 2298]\n",
            " [   0    0    0 ...    7   88  131]\n",
            " [   0    0    0 ...    2   41 1031]\n",
            " ...\n",
            " [   0    0    0 ...    2 1028 3780]\n",
            " [   0    0    0 ... 5884    9 3131]\n",
            " [   0    0    0 ...   10  268 1055]] [[   0    0    0 ...    1    2  548]\n",
            " [   0    0    0 ...   81  135  252]\n",
            " [   0    0    0 ...    1    2  955]\n",
            " ...\n",
            " [   0    0    0 ...    6  735  120]\n",
            " [   0    0    0 ...    4   73 4045]\n",
            " [   0    0    0 ...   18  164 1167]]\n"
          ]
        }
      ],
      "source": [
        "padded_train_sequences_eng = pad_sequences(train_sequences_eng, maxlen=maxlen_eng)\n",
        "padded_test_sequences_eng = pad_sequences(test_sequences_eng, maxlen=maxlen_eng)\n",
        "padded_train_sequences_ita = pad_sequences(train_sequences_ita, maxlen=maxlen_ita)\n",
        "padded_test_sequences_ita = pad_sequences(test_sequences_ita, maxlen=maxlen_ita)\n",
        "\n",
        "print(\"ENG: \", padded_train_sequences_eng, padded_test_sequences_eng)\n",
        "print(\"ITA: \", padded_train_sequences_ita, padded_test_sequences_ita)"
      ]
    },
    {
      "cell_type": "code",
      "execution_count": 13,
      "id": "c344cad1-53b4-4b9c-a8fb-7f028e8168c2",
      "metadata": {
        "colab": {
          "base_uri": "https://localhost:8080/"
        },
        "id": "c344cad1-53b4-4b9c-a8fb-7f028e8168c2",
        "outputId": "55dfa3ec-1668-4bec-f189-6a947d2a4a05"
      },
      "outputs": [
        {
          "output_type": "execute_result",
          "data": {
            "text/plain": [
              "(40000, 6)"
            ]
          },
          "metadata": {},
          "execution_count": 13
        }
      ],
      "source": [
        "padded_train_sequences_eng.shape"
      ]
    },
    {
      "cell_type": "markdown",
      "id": "484a819c-fa39-46cf-a308-b88e98b1069b",
      "metadata": {
        "id": "484a819c-fa39-46cf-a308-b88e98b1069b"
      },
      "source": [
        "Visto che devo tradurre da inglese a italiano, e che le frasi in inglese sono paddate a 6, mentre quelle in italiano a 10, faccio il padding anche di quelle in inglese portandole a 10."
      ]
    },
    {
      "cell_type": "code",
      "execution_count": 14,
      "id": "7e0b32df-f698-4403-a24f-90eec332a97d",
      "metadata": {
        "id": "7e0b32df-f698-4403-a24f-90eec332a97d"
      },
      "outputs": [],
      "source": [
        "traslate_padding_sequences_train = pad_sequences(padded_train_sequences_eng, maxlen_ita)"
      ]
    },
    {
      "cell_type": "code",
      "execution_count": 19,
      "id": "d7c56866-901f-4dc8-b382-2459e94b1a4b",
      "metadata": {
        "colab": {
          "base_uri": "https://localhost:8080/"
        },
        "id": "d7c56866-901f-4dc8-b382-2459e94b1a4b",
        "outputId": "4179a909-52ae-4a46-a641-771b59d5f542"
      },
      "outputs": [
        {
          "output_type": "execute_result",
          "data": {
            "text/plain": [
              "(40000, 10)"
            ]
          },
          "metadata": {},
          "execution_count": 19
        }
      ],
      "source": [
        "traslate_padding_sequences_train.shape"
      ]
    },
    {
      "cell_type": "markdown",
      "id": "14ae0ed5-f80d-458a-9619-afa7fbfc527b",
      "metadata": {
        "id": "14ae0ed5-f80d-458a-9619-afa7fbfc527b"
      },
      "source": [
        "## 8. COSTRUZIONE DELLA RETE\n",
        "La rete viene costruita in base all'output, quindi con i dati di ciò che è italiano.\n"
      ]
    },
    {
      "cell_type": "markdown",
      "id": "13ac3cef-eb54-45c7-ae03-e17229a15d36",
      "metadata": {
        "id": "13ac3cef-eb54-45c7-ae03-e17229a15d36"
      },
      "source": [
        "## 9. VALUTAZIONE DELLA RETE"
      ]
    },
    {
      "cell_type": "code",
      "execution_count": 15,
      "id": "73e46f9f-2431-457a-823f-7a15ae1836a2",
      "metadata": {
        "id": "73e46f9f-2431-457a-823f-7a15ae1836a2"
      },
      "outputs": [],
      "source": [
        "# Devo paddare il padded_test_sequences_eng a maxlen_ita\n",
        "traslate_padding_sequences_test = pad_sequences(padded_test_sequences_eng, maxlen_ita)\n",
        "\n",
        "def evaluate_model(model):\n",
        "    model.evaluate(traslate_padding_sequences_test, padded_test_sequences_ita)"
      ]
    },
    {
      "cell_type": "markdown",
      "id": "234c8de4-1748-4b33-b188-b0eae171ec64",
      "metadata": {
        "id": "234c8de4-1748-4b33-b188-b0eae171ec64"
      },
      "source": [
        "## 10. DIMOSTRAZIONE DEI RISULTATI"
      ]
    },
    {
      "cell_type": "code",
      "source": [
        "def logits_to_text(logits, tokenizer):\n",
        "    # tokenizer.word_index è una mappa del tipo: {'ciao': 1, 'mondo': 2, 'bella': 3, ...} ovvero parola ➝ indice\n",
        "    # inverto in indice ➝ parola\n",
        "    # invertendo posso recuperare dall'indice la parola più probabile predetta\n",
        "    index_to_words = {id: word for word, id in tokenizer.word_index.items()}\n",
        "    index_to_words[0] = '<PAD>'\n",
        "    # converto i logits in parole scegliendo quella con punteggio massimo (argmax), ovvero la più probabile.\n",
        "    return ' '.join([index_to_words[prediction] for prediction in np.argmax(logits, 1)])"
      ],
      "metadata": {
        "id": "dMog1JvpZaMW"
      },
      "id": "dMog1JvpZaMW",
      "execution_count": 20,
      "outputs": []
    },
    {
      "cell_type": "code",
      "execution_count": 17,
      "id": "aee0a61c-9da3-4671-90a4-31eea84d1c5f",
      "metadata": {
        "id": "aee0a61c-9da3-4671-90a4-31eea84d1c5f"
      },
      "outputs": [],
      "source": [
        "def show_translate(model):\n",
        "    embed_preds = model.predict(traslate_padding_sequences_test)\n",
        "    # faccio la traduzione per 20 parole\n",
        "    for i in range(0,20):\n",
        "      print(xtest[i]) # stampo la traduzione effettiva\n",
        "      print(logits_to_text(embed_preds[i], tokenizer_ita)) # stampo la traduzione del modello\n",
        "      print(\"----------------------------------------\\n\")"
      ]
    },
    {
      "cell_type": "markdown",
      "source": [
        "### VANILLA RNN"
      ],
      "metadata": {
        "id": "YJPbqaLGddJy"
      },
      "id": "YJPbqaLGddJy"
    },
    {
      "cell_type": "code",
      "execution_count": 23,
      "id": "913187f9-c8c5-4223-bbf0-e190bdc986d2",
      "metadata": {
        "colab": {
          "base_uri": "https://localhost:8080/",
          "height": 272
        },
        "id": "913187f9-c8c5-4223-bbf0-e190bdc986d2",
        "outputId": "056ff6a8-4929-4cb7-ce99-950460c5a667"
      },
      "outputs": [
        {
          "output_type": "display_data",
          "data": {
            "text/plain": [
              "\u001b[1mModel: \"sequential\"\u001b[0m\n"
            ],
            "text/html": [
              "<pre style=\"white-space:pre;overflow-x:auto;line-height:normal;font-family:Menlo,'DejaVu Sans Mono',consolas,'Courier New',monospace\"><span style=\"font-weight: bold\">Model: \"sequential\"</span>\n",
              "</pre>\n"
            ]
          },
          "metadata": {}
        },
        {
          "output_type": "display_data",
          "data": {
            "text/plain": [
              "┏━━━━━━━━━━━━━━━━━━━━━━━━━━━━━━━━━━━━━━┳━━━━━━━━━━━━━━━━━━━━━━━━━━━━━┳━━━━━━━━━━━━━━━━━┓\n",
              "┃\u001b[1m \u001b[0m\u001b[1mLayer (type)                        \u001b[0m\u001b[1m \u001b[0m┃\u001b[1m \u001b[0m\u001b[1mOutput Shape               \u001b[0m\u001b[1m \u001b[0m┃\u001b[1m \u001b[0m\u001b[1m        Param #\u001b[0m\u001b[1m \u001b[0m┃\n",
              "┡━━━━━━━━━━━━━━━━━━━━━━━━━━━━━━━━━━━━━━╇━━━━━━━━━━━━━━━━━━━━━━━━━━━━━╇━━━━━━━━━━━━━━━━━┩\n",
              "│ embedding (\u001b[38;5;33mEmbedding\u001b[0m)                │ ?                           │     \u001b[38;5;34m0\u001b[0m (unbuilt) │\n",
              "├──────────────────────────────────────┼─────────────────────────────┼─────────────────┤\n",
              "│ simple_rnn (\u001b[38;5;33mSimpleRNN\u001b[0m)               │ ?                           │     \u001b[38;5;34m0\u001b[0m (unbuilt) │\n",
              "├──────────────────────────────────────┼─────────────────────────────┼─────────────────┤\n",
              "│ simple_rnn_1 (\u001b[38;5;33mSimpleRNN\u001b[0m)             │ ?                           │     \u001b[38;5;34m0\u001b[0m (unbuilt) │\n",
              "├──────────────────────────────────────┼─────────────────────────────┼─────────────────┤\n",
              "│ time_distributed (\u001b[38;5;33mTimeDistributed\u001b[0m)   │ ?                           │     \u001b[38;5;34m0\u001b[0m (unbuilt) │\n",
              "└──────────────────────────────────────┴─────────────────────────────┴─────────────────┘\n"
            ],
            "text/html": [
              "<pre style=\"white-space:pre;overflow-x:auto;line-height:normal;font-family:Menlo,'DejaVu Sans Mono',consolas,'Courier New',monospace\">┏━━━━━━━━━━━━━━━━━━━━━━━━━━━━━━━━━━━━━━┳━━━━━━━━━━━━━━━━━━━━━━━━━━━━━┳━━━━━━━━━━━━━━━━━┓\n",
              "┃<span style=\"font-weight: bold\"> Layer (type)                         </span>┃<span style=\"font-weight: bold\"> Output Shape                </span>┃<span style=\"font-weight: bold\">         Param # </span>┃\n",
              "┡━━━━━━━━━━━━━━━━━━━━━━━━━━━━━━━━━━━━━━╇━━━━━━━━━━━━━━━━━━━━━━━━━━━━━╇━━━━━━━━━━━━━━━━━┩\n",
              "│ embedding (<span style=\"color: #0087ff; text-decoration-color: #0087ff\">Embedding</span>)                │ ?                           │     <span style=\"color: #00af00; text-decoration-color: #00af00\">0</span> (unbuilt) │\n",
              "├──────────────────────────────────────┼─────────────────────────────┼─────────────────┤\n",
              "│ simple_rnn (<span style=\"color: #0087ff; text-decoration-color: #0087ff\">SimpleRNN</span>)               │ ?                           │     <span style=\"color: #00af00; text-decoration-color: #00af00\">0</span> (unbuilt) │\n",
              "├──────────────────────────────────────┼─────────────────────────────┼─────────────────┤\n",
              "│ simple_rnn_1 (<span style=\"color: #0087ff; text-decoration-color: #0087ff\">SimpleRNN</span>)             │ ?                           │     <span style=\"color: #00af00; text-decoration-color: #00af00\">0</span> (unbuilt) │\n",
              "├──────────────────────────────────────┼─────────────────────────────┼─────────────────┤\n",
              "│ time_distributed (<span style=\"color: #0087ff; text-decoration-color: #0087ff\">TimeDistributed</span>)   │ ?                           │     <span style=\"color: #00af00; text-decoration-color: #00af00\">0</span> (unbuilt) │\n",
              "└──────────────────────────────────────┴─────────────────────────────┴─────────────────┘\n",
              "</pre>\n"
            ]
          },
          "metadata": {}
        },
        {
          "output_type": "display_data",
          "data": {
            "text/plain": [
              "\u001b[1m Total params: \u001b[0m\u001b[38;5;34m0\u001b[0m (0.00 B)\n"
            ],
            "text/html": [
              "<pre style=\"white-space:pre;overflow-x:auto;line-height:normal;font-family:Menlo,'DejaVu Sans Mono',consolas,'Courier New',monospace\"><span style=\"font-weight: bold\"> Total params: </span><span style=\"color: #00af00; text-decoration-color: #00af00\">0</span> (0.00 B)\n",
              "</pre>\n"
            ]
          },
          "metadata": {}
        },
        {
          "output_type": "display_data",
          "data": {
            "text/plain": [
              "\u001b[1m Trainable params: \u001b[0m\u001b[38;5;34m0\u001b[0m (0.00 B)\n"
            ],
            "text/html": [
              "<pre style=\"white-space:pre;overflow-x:auto;line-height:normal;font-family:Menlo,'DejaVu Sans Mono',consolas,'Courier New',monospace\"><span style=\"font-weight: bold\"> Trainable params: </span><span style=\"color: #00af00; text-decoration-color: #00af00\">0</span> (0.00 B)\n",
              "</pre>\n"
            ]
          },
          "metadata": {}
        },
        {
          "output_type": "display_data",
          "data": {
            "text/plain": [
              "\u001b[1m Non-trainable params: \u001b[0m\u001b[38;5;34m0\u001b[0m (0.00 B)\n"
            ],
            "text/html": [
              "<pre style=\"white-space:pre;overflow-x:auto;line-height:normal;font-family:Menlo,'DejaVu Sans Mono',consolas,'Courier New',monospace\"><span style=\"font-weight: bold\"> Non-trainable params: </span><span style=\"color: #00af00; text-decoration-color: #00af00\">0</span> (0.00 B)\n",
              "</pre>\n"
            ]
          },
          "metadata": {}
        }
      ],
      "source": [
        "model_RNN = Sequential()\n",
        "#input = vocabolary_eng > input_length = maxlen_ita > perchè IL TUTTO E' PADDATO ALLA MAXLEN POSSIBILE.\n",
        "model_RNN.add(Embedding(vocabolary_eng, 128, input_length=maxlen_ita))\n",
        "# Devo ritornare le sequenze tra i vari neuronin perchè c'è più di un layer\n",
        "model_RNN.add(SimpleRNN(64, return_sequences=True, activation=\"tanh\"))\n",
        "model_RNN.add(SimpleRNN(64, return_sequences=True, activation=\"tanh\"))\n",
        "model_RNN.add(TimeDistributed(Dense(vocabolary_ita, activation=\"softmax\")))\n",
        "model_RNN.summary()"
      ]
    },
    {
      "cell_type": "code",
      "execution_count": 24,
      "id": "4225d0aa-e42a-442f-899d-21035b949b25",
      "metadata": {
        "id": "4225d0aa-e42a-442f-899d-21035b949b25"
      },
      "outputs": [],
      "source": [
        "model_RNN.compile(optimizer='rmsprop', loss='sparse_categorical_crossentropy', metrics=['accuracy'])"
      ]
    },
    {
      "cell_type": "code",
      "execution_count": 25,
      "id": "d57f7fa1-af45-445b-94b7-43acab559c72",
      "metadata": {
        "colab": {
          "base_uri": "https://localhost:8080/"
        },
        "id": "d57f7fa1-af45-445b-94b7-43acab559c72",
        "outputId": "8ab11da5-bc91-43b6-fae2-887468e5da96"
      },
      "outputs": [
        {
          "output_type": "stream",
          "name": "stdout",
          "text": [
            "Epoch 1/100\n",
            "\u001b[1m63/63\u001b[0m \u001b[32m━━━━━━━━━━━━━━━━━━━━\u001b[0m\u001b[37m\u001b[0m \u001b[1m26s\u001b[0m 201ms/step - accuracy: 0.5753 - loss: 7.6936 - val_accuracy: 0.6536 - val_loss: 4.6003\n",
            "Epoch 2/100\n",
            "\u001b[1m63/63\u001b[0m \u001b[32m━━━━━━━━━━━━━━━━━━━━\u001b[0m\u001b[37m\u001b[0m \u001b[1m2s\u001b[0m 35ms/step - accuracy: 0.6506 - loss: 3.9957 - val_accuracy: 0.6536 - val_loss: 3.0107\n",
            "Epoch 3/100\n",
            "\u001b[1m63/63\u001b[0m \u001b[32m━━━━━━━━━━━━━━━━━━━━\u001b[0m\u001b[37m\u001b[0m \u001b[1m3s\u001b[0m 36ms/step - accuracy: 0.6523 - loss: 2.9721 - val_accuracy: 0.6536 - val_loss: 2.6413\n",
            "Epoch 4/100\n",
            "\u001b[1m63/63\u001b[0m \u001b[32m━━━━━━━━━━━━━━━━━━━━\u001b[0m\u001b[37m\u001b[0m \u001b[1m3s\u001b[0m 43ms/step - accuracy: 0.6519 - loss: 2.5796 - val_accuracy: 0.6536 - val_loss: 2.4761\n",
            "Epoch 5/100\n",
            "\u001b[1m63/63\u001b[0m \u001b[32m━━━━━━━━━━━━━━━━━━━━\u001b[0m\u001b[37m\u001b[0m \u001b[1m3s\u001b[0m 44ms/step - accuracy: 0.6520 - loss: 2.4462 - val_accuracy: 0.6547 - val_loss: 2.3954\n",
            "Epoch 6/100\n",
            "\u001b[1m63/63\u001b[0m \u001b[32m━━━━━━━━━━━━━━━━━━━━\u001b[0m\u001b[37m\u001b[0m \u001b[1m3s\u001b[0m 42ms/step - accuracy: 0.6553 - loss: 2.3877 - val_accuracy: 0.6630 - val_loss: 2.3597\n",
            "Epoch 7/100\n",
            "\u001b[1m63/63\u001b[0m \u001b[32m━━━━━━━━━━━━━━━━━━━━\u001b[0m\u001b[37m\u001b[0m \u001b[1m3s\u001b[0m 42ms/step - accuracy: 0.6610 - loss: 2.3456 - val_accuracy: 0.6613 - val_loss: 2.3318\n",
            "Epoch 8/100\n",
            "\u001b[1m63/63\u001b[0m \u001b[32m━━━━━━━━━━━━━━━━━━━━\u001b[0m\u001b[37m\u001b[0m \u001b[1m3s\u001b[0m 41ms/step - accuracy: 0.6641 - loss: 2.3199 - val_accuracy: 0.6690 - val_loss: 2.2941\n",
            "Epoch 9/100\n",
            "\u001b[1m63/63\u001b[0m \u001b[32m━━━━━━━━━━━━━━━━━━━━\u001b[0m\u001b[37m\u001b[0m \u001b[1m3s\u001b[0m 45ms/step - accuracy: 0.6680 - loss: 2.2862 - val_accuracy: 0.6758 - val_loss: 2.2640\n",
            "Epoch 10/100\n",
            "\u001b[1m63/63\u001b[0m \u001b[32m━━━━━━━━━━━━━━━━━━━━\u001b[0m\u001b[37m\u001b[0m \u001b[1m3s\u001b[0m 43ms/step - accuracy: 0.6754 - loss: 2.2485 - val_accuracy: 0.6776 - val_loss: 2.2521\n",
            "Epoch 11/100\n",
            "\u001b[1m63/63\u001b[0m \u001b[32m━━━━━━━━━━━━━━━━━━━━\u001b[0m\u001b[37m\u001b[0m \u001b[1m3s\u001b[0m 42ms/step - accuracy: 0.6770 - loss: 2.2239 - val_accuracy: 0.6802 - val_loss: 2.2038\n",
            "Epoch 12/100\n",
            "\u001b[1m63/63\u001b[0m \u001b[32m━━━━━━━━━━━━━━━━━━━━\u001b[0m\u001b[37m\u001b[0m \u001b[1m3s\u001b[0m 44ms/step - accuracy: 0.6794 - loss: 2.1928 - val_accuracy: 0.6842 - val_loss: 2.1777\n",
            "Epoch 13/100\n",
            "\u001b[1m63/63\u001b[0m \u001b[32m━━━━━━━━━━━━━━━━━━━━\u001b[0m\u001b[37m\u001b[0m \u001b[1m3s\u001b[0m 42ms/step - accuracy: 0.6833 - loss: 2.1602 - val_accuracy: 0.6851 - val_loss: 2.1523\n",
            "Epoch 14/100\n",
            "\u001b[1m63/63\u001b[0m \u001b[32m━━━━━━━━━━━━━━━━━━━━\u001b[0m\u001b[37m\u001b[0m \u001b[1m5s\u001b[0m 45ms/step - accuracy: 0.6858 - loss: 2.1305 - val_accuracy: 0.6878 - val_loss: 2.1322\n",
            "Epoch 15/100\n",
            "\u001b[1m63/63\u001b[0m \u001b[32m━━━━━━━━━━━━━━━━━━━━\u001b[0m\u001b[37m\u001b[0m \u001b[1m5s\u001b[0m 43ms/step - accuracy: 0.6890 - loss: 2.1073 - val_accuracy: 0.6920 - val_loss: 2.1098\n",
            "Epoch 16/100\n",
            "\u001b[1m63/63\u001b[0m \u001b[32m━━━━━━━━━━━━━━━━━━━━\u001b[0m\u001b[37m\u001b[0m \u001b[1m5s\u001b[0m 43ms/step - accuracy: 0.6919 - loss: 2.0844 - val_accuracy: 0.6945 - val_loss: 2.0878\n",
            "Epoch 17/100\n",
            "\u001b[1m63/63\u001b[0m \u001b[32m━━━━━━━━━━━━━━━━━━━━\u001b[0m\u001b[37m\u001b[0m \u001b[1m5s\u001b[0m 43ms/step - accuracy: 0.6947 - loss: 2.0661 - val_accuracy: 0.6983 - val_loss: 2.0663\n",
            "Epoch 18/100\n",
            "\u001b[1m63/63\u001b[0m \u001b[32m━━━━━━━━━━━━━━━━━━━━\u001b[0m\u001b[37m\u001b[0m \u001b[1m3s\u001b[0m 42ms/step - accuracy: 0.6972 - loss: 2.0400 - val_accuracy: 0.6996 - val_loss: 2.0469\n",
            "Epoch 19/100\n",
            "\u001b[1m63/63\u001b[0m \u001b[32m━━━━━━━━━━━━━━━━━━━━\u001b[0m\u001b[37m\u001b[0m \u001b[1m3s\u001b[0m 42ms/step - accuracy: 0.7015 - loss: 2.0074 - val_accuracy: 0.7026 - val_loss: 2.0251\n",
            "Epoch 20/100\n",
            "\u001b[1m63/63\u001b[0m \u001b[32m━━━━━━━━━━━━━━━━━━━━\u001b[0m\u001b[37m\u001b[0m \u001b[1m3s\u001b[0m 43ms/step - accuracy: 0.7023 - loss: 1.9956 - val_accuracy: 0.7032 - val_loss: 2.0075\n",
            "Epoch 21/100\n",
            "\u001b[1m63/63\u001b[0m \u001b[32m━━━━━━━━━━━━━━━━━━━━\u001b[0m\u001b[37m\u001b[0m \u001b[1m3s\u001b[0m 42ms/step - accuracy: 0.7018 - loss: 1.9833 - val_accuracy: 0.7039 - val_loss: 1.9969\n",
            "Epoch 22/100\n",
            "\u001b[1m63/63\u001b[0m \u001b[32m━━━━━━━━━━━━━━━━━━━━\u001b[0m\u001b[37m\u001b[0m \u001b[1m3s\u001b[0m 44ms/step - accuracy: 0.7043 - loss: 1.9653 - val_accuracy: 0.7076 - val_loss: 1.9760\n",
            "Epoch 23/100\n",
            "\u001b[1m63/63\u001b[0m \u001b[32m━━━━━━━━━━━━━━━━━━━━\u001b[0m\u001b[37m\u001b[0m \u001b[1m5s\u001b[0m 45ms/step - accuracy: 0.7051 - loss: 1.9540 - val_accuracy: 0.7092 - val_loss: 1.9584\n",
            "Epoch 24/100\n",
            "\u001b[1m63/63\u001b[0m \u001b[32m━━━━━━━━━━━━━━━━━━━━\u001b[0m\u001b[37m\u001b[0m \u001b[1m3s\u001b[0m 45ms/step - accuracy: 0.7089 - loss: 1.9247 - val_accuracy: 0.7111 - val_loss: 1.9449\n",
            "Epoch 25/100\n",
            "\u001b[1m63/63\u001b[0m \u001b[32m━━━━━━━━━━━━━━━━━━━━\u001b[0m\u001b[37m\u001b[0m \u001b[1m5s\u001b[0m 46ms/step - accuracy: 0.7088 - loss: 1.9138 - val_accuracy: 0.7113 - val_loss: 1.9345\n",
            "Epoch 26/100\n",
            "\u001b[1m63/63\u001b[0m \u001b[32m━━━━━━━━━━━━━━━━━━━━\u001b[0m\u001b[37m\u001b[0m \u001b[1m5s\u001b[0m 46ms/step - accuracy: 0.7105 - loss: 1.9011 - val_accuracy: 0.7128 - val_loss: 1.9212\n",
            "Epoch 27/100\n",
            "\u001b[1m63/63\u001b[0m \u001b[32m━━━━━━━━━━━━━━━━━━━━\u001b[0m\u001b[37m\u001b[0m \u001b[1m5s\u001b[0m 43ms/step - accuracy: 0.7113 - loss: 1.8806 - val_accuracy: 0.7136 - val_loss: 1.9076\n",
            "Epoch 28/100\n",
            "\u001b[1m63/63\u001b[0m \u001b[32m━━━━━━━━━━━━━━━━━━━━\u001b[0m\u001b[37m\u001b[0m \u001b[1m5s\u001b[0m 45ms/step - accuracy: 0.7132 - loss: 1.8686 - val_accuracy: 0.7147 - val_loss: 1.8942\n",
            "Epoch 29/100\n",
            "\u001b[1m63/63\u001b[0m \u001b[32m━━━━━━━━━━━━━━━━━━━━\u001b[0m\u001b[37m\u001b[0m \u001b[1m3s\u001b[0m 43ms/step - accuracy: 0.7143 - loss: 1.8512 - val_accuracy: 0.7150 - val_loss: 1.8821\n",
            "Epoch 30/100\n",
            "\u001b[1m63/63\u001b[0m \u001b[32m━━━━━━━━━━━━━━━━━━━━\u001b[0m\u001b[37m\u001b[0m \u001b[1m5s\u001b[0m 43ms/step - accuracy: 0.7149 - loss: 1.8419 - val_accuracy: 0.7159 - val_loss: 1.8726\n",
            "Epoch 31/100\n",
            "\u001b[1m63/63\u001b[0m \u001b[32m━━━━━━━━━━━━━━━━━━━━\u001b[0m\u001b[37m\u001b[0m \u001b[1m3s\u001b[0m 42ms/step - accuracy: 0.7152 - loss: 1.8379 - val_accuracy: 0.7176 - val_loss: 1.8634\n",
            "Epoch 32/100\n",
            "\u001b[1m63/63\u001b[0m \u001b[32m━━━━━━━━━━━━━━━━━━━━\u001b[0m\u001b[37m\u001b[0m \u001b[1m5s\u001b[0m 44ms/step - accuracy: 0.7158 - loss: 1.8265 - val_accuracy: 0.7186 - val_loss: 1.8521\n",
            "Epoch 33/100\n",
            "\u001b[1m63/63\u001b[0m \u001b[32m━━━━━━━━━━━━━━━━━━━━\u001b[0m\u001b[37m\u001b[0m \u001b[1m5s\u001b[0m 46ms/step - accuracy: 0.7185 - loss: 1.8006 - val_accuracy: 0.7189 - val_loss: 1.8434\n",
            "Epoch 34/100\n",
            "\u001b[1m63/63\u001b[0m \u001b[32m━━━━━━━━━━━━━━━━━━━━\u001b[0m\u001b[37m\u001b[0m \u001b[1m3s\u001b[0m 44ms/step - accuracy: 0.7202 - loss: 1.7889 - val_accuracy: 0.7200 - val_loss: 1.8308\n",
            "Epoch 35/100\n",
            "\u001b[1m63/63\u001b[0m \u001b[32m━━━━━━━━━━━━━━━━━━━━\u001b[0m\u001b[37m\u001b[0m \u001b[1m5s\u001b[0m 43ms/step - accuracy: 0.7208 - loss: 1.7776 - val_accuracy: 0.7208 - val_loss: 1.8210\n",
            "Epoch 36/100\n",
            "\u001b[1m63/63\u001b[0m \u001b[32m━━━━━━━━━━━━━━━━━━━━\u001b[0m\u001b[37m\u001b[0m \u001b[1m3s\u001b[0m 44ms/step - accuracy: 0.7218 - loss: 1.7697 - val_accuracy: 0.7212 - val_loss: 1.8127\n",
            "Epoch 37/100\n",
            "\u001b[1m63/63\u001b[0m \u001b[32m━━━━━━━━━━━━━━━━━━━━\u001b[0m\u001b[37m\u001b[0m \u001b[1m5s\u001b[0m 44ms/step - accuracy: 0.7229 - loss: 1.7544 - val_accuracy: 0.7222 - val_loss: 1.8024\n",
            "Epoch 38/100\n",
            "\u001b[1m63/63\u001b[0m \u001b[32m━━━━━━━━━━━━━━━━━━━━\u001b[0m\u001b[37m\u001b[0m \u001b[1m3s\u001b[0m 42ms/step - accuracy: 0.7221 - loss: 1.7549 - val_accuracy: 0.7226 - val_loss: 1.7990\n",
            "Epoch 39/100\n",
            "\u001b[1m63/63\u001b[0m \u001b[32m━━━━━━━━━━━━━━━━━━━━\u001b[0m\u001b[37m\u001b[0m \u001b[1m3s\u001b[0m 42ms/step - accuracy: 0.7246 - loss: 1.7329 - val_accuracy: 0.7238 - val_loss: 1.7860\n",
            "Epoch 40/100\n",
            "\u001b[1m63/63\u001b[0m \u001b[32m━━━━━━━━━━━━━━━━━━━━\u001b[0m\u001b[37m\u001b[0m \u001b[1m5s\u001b[0m 45ms/step - accuracy: 0.7237 - loss: 1.7352 - val_accuracy: 0.7242 - val_loss: 1.7788\n",
            "Epoch 41/100\n",
            "\u001b[1m63/63\u001b[0m \u001b[32m━━━━━━━━━━━━━━━━━━━━\u001b[0m\u001b[37m\u001b[0m \u001b[1m5s\u001b[0m 45ms/step - accuracy: 0.7246 - loss: 1.7240 - val_accuracy: 0.7248 - val_loss: 1.7724\n",
            "Epoch 42/100\n",
            "\u001b[1m63/63\u001b[0m \u001b[32m━━━━━━━━━━━━━━━━━━━━\u001b[0m\u001b[37m\u001b[0m \u001b[1m3s\u001b[0m 44ms/step - accuracy: 0.7282 - loss: 1.7014 - val_accuracy: 0.7257 - val_loss: 1.7625\n",
            "Epoch 43/100\n",
            "\u001b[1m63/63\u001b[0m \u001b[32m━━━━━━━━━━━━━━━━━━━━\u001b[0m\u001b[37m\u001b[0m \u001b[1m3s\u001b[0m 42ms/step - accuracy: 0.7266 - loss: 1.7006 - val_accuracy: 0.7272 - val_loss: 1.7549\n",
            "Epoch 44/100\n",
            "\u001b[1m63/63\u001b[0m \u001b[32m━━━━━━━━━━━━━━━━━━━━\u001b[0m\u001b[37m\u001b[0m \u001b[1m3s\u001b[0m 43ms/step - accuracy: 0.7277 - loss: 1.6876 - val_accuracy: 0.7277 - val_loss: 1.7469\n",
            "Epoch 45/100\n",
            "\u001b[1m63/63\u001b[0m \u001b[32m━━━━━━━━━━━━━━━━━━━━\u001b[0m\u001b[37m\u001b[0m \u001b[1m5s\u001b[0m 43ms/step - accuracy: 0.7309 - loss: 1.6675 - val_accuracy: 0.7276 - val_loss: 1.7425\n",
            "Epoch 46/100\n",
            "\u001b[1m63/63\u001b[0m \u001b[32m━━━━━━━━━━━━━━━━━━━━\u001b[0m\u001b[37m\u001b[0m \u001b[1m5s\u001b[0m 45ms/step - accuracy: 0.7297 - loss: 1.6724 - val_accuracy: 0.7283 - val_loss: 1.7336\n",
            "Epoch 47/100\n",
            "\u001b[1m63/63\u001b[0m \u001b[32m━━━━━━━━━━━━━━━━━━━━\u001b[0m\u001b[37m\u001b[0m \u001b[1m3s\u001b[0m 42ms/step - accuracy: 0.7323 - loss: 1.6536 - val_accuracy: 0.7300 - val_loss: 1.7249\n",
            "Epoch 48/100\n",
            "\u001b[1m63/63\u001b[0m \u001b[32m━━━━━━━━━━━━━━━━━━━━\u001b[0m\u001b[37m\u001b[0m \u001b[1m3s\u001b[0m 44ms/step - accuracy: 0.7319 - loss: 1.6538 - val_accuracy: 0.7300 - val_loss: 1.7228\n",
            "Epoch 49/100\n",
            "\u001b[1m63/63\u001b[0m \u001b[32m━━━━━━━━━━━━━━━━━━━━\u001b[0m\u001b[37m\u001b[0m \u001b[1m5s\u001b[0m 45ms/step - accuracy: 0.7334 - loss: 1.6387 - val_accuracy: 0.7312 - val_loss: 1.7118\n",
            "Epoch 50/100\n",
            "\u001b[1m63/63\u001b[0m \u001b[32m━━━━━━━━━━━━━━━━━━━━\u001b[0m\u001b[37m\u001b[0m \u001b[1m5s\u001b[0m 45ms/step - accuracy: 0.7330 - loss: 1.6393 - val_accuracy: 0.7326 - val_loss: 1.7042\n",
            "Epoch 51/100\n",
            "\u001b[1m63/63\u001b[0m \u001b[32m━━━━━━━━━━━━━━━━━━━━\u001b[0m\u001b[37m\u001b[0m \u001b[1m5s\u001b[0m 43ms/step - accuracy: 0.7353 - loss: 1.6240 - val_accuracy: 0.7328 - val_loss: 1.7007\n",
            "Epoch 52/100\n",
            "\u001b[1m63/63\u001b[0m \u001b[32m━━━━━━━━━━━━━━━━━━━━\u001b[0m\u001b[37m\u001b[0m \u001b[1m5s\u001b[0m 43ms/step - accuracy: 0.7355 - loss: 1.6174 - val_accuracy: 0.7334 - val_loss: 1.6911\n",
            "Epoch 53/100\n",
            "\u001b[1m63/63\u001b[0m \u001b[32m━━━━━━━━━━━━━━━━━━━━\u001b[0m\u001b[37m\u001b[0m \u001b[1m5s\u001b[0m 45ms/step - accuracy: 0.7370 - loss: 1.6102 - val_accuracy: 0.7343 - val_loss: 1.6847\n",
            "Epoch 54/100\n",
            "\u001b[1m63/63\u001b[0m \u001b[32m━━━━━━━━━━━━━━━━━━━━\u001b[0m\u001b[37m\u001b[0m \u001b[1m5s\u001b[0m 46ms/step - accuracy: 0.7377 - loss: 1.5961 - val_accuracy: 0.7346 - val_loss: 1.6790\n",
            "Epoch 55/100\n",
            "\u001b[1m63/63\u001b[0m \u001b[32m━━━━━━━━━━━━━━━━━━━━\u001b[0m\u001b[37m\u001b[0m \u001b[1m5s\u001b[0m 43ms/step - accuracy: 0.7390 - loss: 1.5908 - val_accuracy: 0.7351 - val_loss: 1.6738\n",
            "Epoch 56/100\n",
            "\u001b[1m63/63\u001b[0m \u001b[32m━━━━━━━━━━━━━━━━━━━━\u001b[0m\u001b[37m\u001b[0m \u001b[1m3s\u001b[0m 45ms/step - accuracy: 0.7393 - loss: 1.5851 - val_accuracy: 0.7363 - val_loss: 1.6655\n",
            "Epoch 57/100\n",
            "\u001b[1m63/63\u001b[0m \u001b[32m━━━━━━━━━━━━━━━━━━━━\u001b[0m\u001b[37m\u001b[0m \u001b[1m5s\u001b[0m 43ms/step - accuracy: 0.7399 - loss: 1.5702 - val_accuracy: 0.7365 - val_loss: 1.6607\n",
            "Epoch 58/100\n",
            "\u001b[1m63/63\u001b[0m \u001b[32m━━━━━━━━━━━━━━━━━━━━\u001b[0m\u001b[37m\u001b[0m \u001b[1m5s\u001b[0m 45ms/step - accuracy: 0.7410 - loss: 1.5665 - val_accuracy: 0.7373 - val_loss: 1.6546\n",
            "Epoch 59/100\n",
            "\u001b[1m63/63\u001b[0m \u001b[32m━━━━━━━━━━━━━━━━━━━━\u001b[0m\u001b[37m\u001b[0m \u001b[1m5s\u001b[0m 46ms/step - accuracy: 0.7423 - loss: 1.5580 - val_accuracy: 0.7382 - val_loss: 1.6495\n",
            "Epoch 60/100\n",
            "\u001b[1m63/63\u001b[0m \u001b[32m━━━━━━━━━━━━━━━━━━━━\u001b[0m\u001b[37m\u001b[0m \u001b[1m3s\u001b[0m 42ms/step - accuracy: 0.7414 - loss: 1.5552 - val_accuracy: 0.7373 - val_loss: 1.6450\n",
            "Epoch 61/100\n",
            "\u001b[1m63/63\u001b[0m \u001b[32m━━━━━━━━━━━━━━━━━━━━\u001b[0m\u001b[37m\u001b[0m \u001b[1m3s\u001b[0m 44ms/step - accuracy: 0.7439 - loss: 1.5463 - val_accuracy: 0.7385 - val_loss: 1.6389\n",
            "Epoch 62/100\n",
            "\u001b[1m63/63\u001b[0m \u001b[32m━━━━━━━━━━━━━━━━━━━━\u001b[0m\u001b[37m\u001b[0m \u001b[1m3s\u001b[0m 43ms/step - accuracy: 0.7436 - loss: 1.5422 - val_accuracy: 0.7399 - val_loss: 1.6343\n",
            "Epoch 63/100\n",
            "\u001b[1m63/63\u001b[0m \u001b[32m━━━━━━━━━━━━━━━━━━━━\u001b[0m\u001b[37m\u001b[0m \u001b[1m5s\u001b[0m 44ms/step - accuracy: 0.7453 - loss: 1.5328 - val_accuracy: 0.7391 - val_loss: 1.6278\n",
            "Epoch 64/100\n",
            "\u001b[1m63/63\u001b[0m \u001b[32m━━━━━━━━━━━━━━━━━━━━\u001b[0m\u001b[37m\u001b[0m \u001b[1m3s\u001b[0m 42ms/step - accuracy: 0.7468 - loss: 1.5182 - val_accuracy: 0.7403 - val_loss: 1.6232\n",
            "Epoch 65/100\n",
            "\u001b[1m63/63\u001b[0m \u001b[32m━━━━━━━━━━━━━━━━━━━━\u001b[0m\u001b[37m\u001b[0m \u001b[1m3s\u001b[0m 43ms/step - accuracy: 0.7473 - loss: 1.5139 - val_accuracy: 0.7416 - val_loss: 1.6174\n",
            "Epoch 66/100\n",
            "\u001b[1m63/63\u001b[0m \u001b[32m━━━━━━━━━━━━━━━━━━━━\u001b[0m\u001b[37m\u001b[0m \u001b[1m5s\u001b[0m 46ms/step - accuracy: 0.7459 - loss: 1.5181 - val_accuracy: 0.7423 - val_loss: 1.6123\n",
            "Epoch 67/100\n",
            "\u001b[1m63/63\u001b[0m \u001b[32m━━━━━━━━━━━━━━━━━━━━\u001b[0m\u001b[37m\u001b[0m \u001b[1m3s\u001b[0m 44ms/step - accuracy: 0.7496 - loss: 1.4967 - val_accuracy: 0.7422 - val_loss: 1.6083\n",
            "Epoch 68/100\n",
            "\u001b[1m63/63\u001b[0m \u001b[32m━━━━━━━━━━━━━━━━━━━━\u001b[0m\u001b[37m\u001b[0m \u001b[1m5s\u001b[0m 45ms/step - accuracy: 0.7487 - loss: 1.4953 - val_accuracy: 0.7421 - val_loss: 1.6038\n",
            "Epoch 69/100\n",
            "\u001b[1m63/63\u001b[0m \u001b[32m━━━━━━━━━━━━━━━━━━━━\u001b[0m\u001b[37m\u001b[0m \u001b[1m3s\u001b[0m 43ms/step - accuracy: 0.7489 - loss: 1.4913 - val_accuracy: 0.7419 - val_loss: 1.6005\n",
            "Epoch 70/100\n",
            "\u001b[1m63/63\u001b[0m \u001b[32m━━━━━━━━━━━━━━━━━━━━\u001b[0m\u001b[37m\u001b[0m \u001b[1m5s\u001b[0m 43ms/step - accuracy: 0.7499 - loss: 1.4853 - val_accuracy: 0.7434 - val_loss: 1.5936\n",
            "Epoch 71/100\n",
            "\u001b[1m63/63\u001b[0m \u001b[32m━━━━━━━━━━━━━━━━━━━━\u001b[0m\u001b[37m\u001b[0m \u001b[1m3s\u001b[0m 44ms/step - accuracy: 0.7509 - loss: 1.4783 - val_accuracy: 0.7435 - val_loss: 1.5903\n",
            "Epoch 72/100\n",
            "\u001b[1m63/63\u001b[0m \u001b[32m━━━━━━━━━━━━━━━━━━━━\u001b[0m\u001b[37m\u001b[0m \u001b[1m5s\u001b[0m 44ms/step - accuracy: 0.7511 - loss: 1.4638 - val_accuracy: 0.7443 - val_loss: 1.5871\n",
            "Epoch 73/100\n",
            "\u001b[1m63/63\u001b[0m \u001b[32m━━━━━━━━━━━━━━━━━━━━\u001b[0m\u001b[37m\u001b[0m \u001b[1m3s\u001b[0m 45ms/step - accuracy: 0.7521 - loss: 1.4616 - val_accuracy: 0.7448 - val_loss: 1.5789\n",
            "Epoch 74/100\n",
            "\u001b[1m63/63\u001b[0m \u001b[32m━━━━━━━━━━━━━━━━━━━━\u001b[0m\u001b[37m\u001b[0m \u001b[1m3s\u001b[0m 42ms/step - accuracy: 0.7516 - loss: 1.4604 - val_accuracy: 0.7440 - val_loss: 1.5755\n",
            "Epoch 75/100\n",
            "\u001b[1m63/63\u001b[0m \u001b[32m━━━━━━━━━━━━━━━━━━━━\u001b[0m\u001b[37m\u001b[0m \u001b[1m5s\u001b[0m 46ms/step - accuracy: 0.7530 - loss: 1.4550 - val_accuracy: 0.7456 - val_loss: 1.5707\n",
            "Epoch 76/100\n",
            "\u001b[1m63/63\u001b[0m \u001b[32m━━━━━━━━━━━━━━━━━━━━\u001b[0m\u001b[37m\u001b[0m \u001b[1m5s\u001b[0m 44ms/step - accuracy: 0.7524 - loss: 1.4510 - val_accuracy: 0.7462 - val_loss: 1.5659\n",
            "Epoch 77/100\n",
            "\u001b[1m63/63\u001b[0m \u001b[32m━━━━━━━━━━━━━━━━━━━━\u001b[0m\u001b[37m\u001b[0m \u001b[1m3s\u001b[0m 43ms/step - accuracy: 0.7535 - loss: 1.4441 - val_accuracy: 0.7464 - val_loss: 1.5634\n",
            "Epoch 78/100\n",
            "\u001b[1m63/63\u001b[0m \u001b[32m━━━━━━━━━━━━━━━━━━━━\u001b[0m\u001b[37m\u001b[0m \u001b[1m5s\u001b[0m 44ms/step - accuracy: 0.7548 - loss: 1.4299 - val_accuracy: 0.7470 - val_loss: 1.5570\n",
            "Epoch 79/100\n",
            "\u001b[1m63/63\u001b[0m \u001b[32m━━━━━━━━━━━━━━━━━━━━\u001b[0m\u001b[37m\u001b[0m \u001b[1m5s\u001b[0m 46ms/step - accuracy: 0.7558 - loss: 1.4269 - val_accuracy: 0.7468 - val_loss: 1.5553\n",
            "Epoch 80/100\n",
            "\u001b[1m63/63\u001b[0m \u001b[32m━━━━━━━━━━━━━━━━━━━━\u001b[0m\u001b[37m\u001b[0m \u001b[1m5s\u001b[0m 46ms/step - accuracy: 0.7563 - loss: 1.4225 - val_accuracy: 0.7480 - val_loss: 1.5506\n",
            "Epoch 81/100\n",
            "\u001b[1m63/63\u001b[0m \u001b[32m━━━━━━━━━━━━━━━━━━━━\u001b[0m\u001b[37m\u001b[0m \u001b[1m5s\u001b[0m 45ms/step - accuracy: 0.7554 - loss: 1.4226 - val_accuracy: 0.7488 - val_loss: 1.5448\n",
            "Epoch 82/100\n",
            "\u001b[1m63/63\u001b[0m \u001b[32m━━━━━━━━━━━━━━━━━━━━\u001b[0m\u001b[37m\u001b[0m \u001b[1m5s\u001b[0m 46ms/step - accuracy: 0.7556 - loss: 1.4166 - val_accuracy: 0.7488 - val_loss: 1.5422\n",
            "Epoch 83/100\n",
            "\u001b[1m63/63\u001b[0m \u001b[32m━━━━━━━━━━━━━━━━━━━━\u001b[0m\u001b[37m\u001b[0m \u001b[1m5s\u001b[0m 44ms/step - accuracy: 0.7562 - loss: 1.4101 - val_accuracy: 0.7483 - val_loss: 1.5366\n",
            "Epoch 84/100\n",
            "\u001b[1m63/63\u001b[0m \u001b[32m━━━━━━━━━━━━━━━━━━━━\u001b[0m\u001b[37m\u001b[0m \u001b[1m5s\u001b[0m 46ms/step - accuracy: 0.7580 - loss: 1.4018 - val_accuracy: 0.7492 - val_loss: 1.5332\n",
            "Epoch 85/100\n",
            "\u001b[1m63/63\u001b[0m \u001b[32m━━━━━━━━━━━━━━━━━━━━\u001b[0m\u001b[37m\u001b[0m \u001b[1m5s\u001b[0m 46ms/step - accuracy: 0.7585 - loss: 1.3983 - val_accuracy: 0.7490 - val_loss: 1.5303\n",
            "Epoch 86/100\n",
            "\u001b[1m63/63\u001b[0m \u001b[32m━━━━━━━━━━━━━━━━━━━━\u001b[0m\u001b[37m\u001b[0m \u001b[1m5s\u001b[0m 43ms/step - accuracy: 0.7582 - loss: 1.3943 - val_accuracy: 0.7498 - val_loss: 1.5269\n",
            "Epoch 87/100\n",
            "\u001b[1m63/63\u001b[0m \u001b[32m━━━━━━━━━━━━━━━━━━━━\u001b[0m\u001b[37m\u001b[0m \u001b[1m5s\u001b[0m 45ms/step - accuracy: 0.7600 - loss: 1.3871 - val_accuracy: 0.7498 - val_loss: 1.5242\n",
            "Epoch 88/100\n",
            "\u001b[1m63/63\u001b[0m \u001b[32m━━━━━━━━━━━━━━━━━━━━\u001b[0m\u001b[37m\u001b[0m \u001b[1m3s\u001b[0m 42ms/step - accuracy: 0.7585 - loss: 1.3834 - val_accuracy: 0.7506 - val_loss: 1.5198\n",
            "Epoch 89/100\n",
            "\u001b[1m63/63\u001b[0m \u001b[32m━━━━━━━━━━━━━━━━━━━━\u001b[0m\u001b[37m\u001b[0m \u001b[1m5s\u001b[0m 46ms/step - accuracy: 0.7591 - loss: 1.3785 - val_accuracy: 0.7513 - val_loss: 1.5164\n",
            "Epoch 90/100\n",
            "\u001b[1m63/63\u001b[0m \u001b[32m━━━━━━━━━━━━━━━━━━━━\u001b[0m\u001b[37m\u001b[0m \u001b[1m5s\u001b[0m 47ms/step - accuracy: 0.7604 - loss: 1.3672 - val_accuracy: 0.7510 - val_loss: 1.5121\n",
            "Epoch 91/100\n",
            "\u001b[1m63/63\u001b[0m \u001b[32m━━━━━━━━━━━━━━━━━━━━\u001b[0m\u001b[37m\u001b[0m \u001b[1m3s\u001b[0m 42ms/step - accuracy: 0.7610 - loss: 1.3673 - val_accuracy: 0.7518 - val_loss: 1.5094\n",
            "Epoch 92/100\n",
            "\u001b[1m63/63\u001b[0m \u001b[32m━━━━━━━━━━━━━━━━━━━━\u001b[0m\u001b[37m\u001b[0m \u001b[1m5s\u001b[0m 44ms/step - accuracy: 0.7629 - loss: 1.3589 - val_accuracy: 0.7522 - val_loss: 1.5043\n",
            "Epoch 93/100\n",
            "\u001b[1m63/63\u001b[0m \u001b[32m━━━━━━━━━━━━━━━━━━━━\u001b[0m\u001b[37m\u001b[0m \u001b[1m5s\u001b[0m 46ms/step - accuracy: 0.7616 - loss: 1.3556 - val_accuracy: 0.7524 - val_loss: 1.5018\n",
            "Epoch 94/100\n",
            "\u001b[1m63/63\u001b[0m \u001b[32m━━━━━━━━━━━━━━━━━━━━\u001b[0m\u001b[37m\u001b[0m \u001b[1m3s\u001b[0m 45ms/step - accuracy: 0.7629 - loss: 1.3538 - val_accuracy: 0.7528 - val_loss: 1.4989\n",
            "Epoch 95/100\n",
            "\u001b[1m63/63\u001b[0m \u001b[32m━━━━━━━━━━━━━━━━━━━━\u001b[0m\u001b[37m\u001b[0m \u001b[1m3s\u001b[0m 45ms/step - accuracy: 0.7635 - loss: 1.3461 - val_accuracy: 0.7530 - val_loss: 1.4979\n",
            "Epoch 96/100\n",
            "\u001b[1m63/63\u001b[0m \u001b[32m━━━━━━━━━━━━━━━━━━━━\u001b[0m\u001b[37m\u001b[0m \u001b[1m3s\u001b[0m 45ms/step - accuracy: 0.7640 - loss: 1.3376 - val_accuracy: 0.7526 - val_loss: 1.4931\n",
            "Epoch 97/100\n",
            "\u001b[1m63/63\u001b[0m \u001b[32m━━━━━━━━━━━━━━━━━━━━\u001b[0m\u001b[37m\u001b[0m \u001b[1m3s\u001b[0m 43ms/step - accuracy: 0.7637 - loss: 1.3396 - val_accuracy: 0.7533 - val_loss: 1.4912\n",
            "Epoch 98/100\n",
            "\u001b[1m63/63\u001b[0m \u001b[32m━━━━━━━━━━━━━━━━━━━━\u001b[0m\u001b[37m\u001b[0m \u001b[1m3s\u001b[0m 45ms/step - accuracy: 0.7643 - loss: 1.3395 - val_accuracy: 0.7536 - val_loss: 1.4873\n",
            "Epoch 99/100\n",
            "\u001b[1m63/63\u001b[0m \u001b[32m━━━━━━━━━━━━━━━━━━━━\u001b[0m\u001b[37m\u001b[0m \u001b[1m5s\u001b[0m 44ms/step - accuracy: 0.7651 - loss: 1.3274 - val_accuracy: 0.7536 - val_loss: 1.4845\n",
            "Epoch 100/100\n",
            "\u001b[1m63/63\u001b[0m \u001b[32m━━━━━━━━━━━━━━━━━━━━\u001b[0m\u001b[37m\u001b[0m \u001b[1m5s\u001b[0m 46ms/step - accuracy: 0.7644 - loss: 1.3312 - val_accuracy: 0.7538 - val_loss: 1.4826\n"
          ]
        },
        {
          "output_type": "execute_result",
          "data": {
            "text/plain": [
              "<keras.src.callbacks.history.History at 0x7e7c3ae155d0>"
            ]
          },
          "metadata": {},
          "execution_count": 25
        }
      ],
      "source": [
        "model_RNN.fit(traslate_padding_sequences_train, padded_train_sequences_ita, validation_split=.2, epochs=100, batch_size=512)"
      ]
    },
    {
      "cell_type": "code",
      "source": [
        "show_translate(model_RNN)"
      ],
      "metadata": {
        "colab": {
          "base_uri": "https://localhost:8080/"
        },
        "id": "jNLKQvkpd1Jr",
        "outputId": "f93c2168-31b5-44c2-feae-f3376efca1d9"
      },
      "id": "jNLKQvkpd1Jr",
      "execution_count": 26,
      "outputs": [
        {
          "output_type": "stream",
          "name": "stdout",
          "text": [
            "\u001b[1m313/313\u001b[0m \u001b[32m━━━━━━━━━━━━━━━━━━━━\u001b[0m\u001b[37m\u001b[0m \u001b[1m7s\u001b[0m 18ms/step\n",
            "tom is awake.\n",
            "<PAD> <PAD> <PAD> <PAD> <PAD> <PAD> <PAD> tom è serio\n",
            "----------------------------------------\n",
            "\n",
            "i just did it.\n",
            "<PAD> <PAD> <PAD> <PAD> <PAD> <PAD> <PAD> appena a fatto\n",
            "----------------------------------------\n",
            "\n",
            "tom is brilliant.\n",
            "<PAD> <PAD> <PAD> <PAD> <PAD> <PAD> <PAD> tom è forte\n",
            "----------------------------------------\n",
            "\n",
            "allow me to help.\n",
            "<PAD> <PAD> <PAD> <PAD> <PAD> <PAD> <PAD> <PAD> a aiutare\n",
            "----------------------------------------\n",
            "\n",
            "we heard tom.\n",
            "<PAD> <PAD> <PAD> <PAD> <PAD> <PAD> <PAD> <PAD> delle tom\n",
            "----------------------------------------\n",
            "\n",
            "don't waste my time.\n",
            "<PAD> <PAD> <PAD> <PAD> <PAD> <PAD> non non mia tempo\n",
            "----------------------------------------\n",
            "\n",
            "you were sick.\n",
            "<PAD> <PAD> <PAD> <PAD> <PAD> <PAD> <PAD> <PAD> eri malato\n",
            "----------------------------------------\n",
            "\n",
            "tom plays piano.\n",
            "<PAD> <PAD> <PAD> <PAD> <PAD> <PAD> <PAD> tom a no\n",
            "----------------------------------------\n",
            "\n",
            "i'm resting now.\n",
            "<PAD> <PAD> <PAD> <PAD> <PAD> <PAD> <PAD> sono estremamente ora\n",
            "----------------------------------------\n",
            "\n",
            "just say yes.\n",
            "<PAD> <PAD> <PAD> <PAD> <PAD> <PAD> <PAD> tom di sì\n",
            "----------------------------------------\n",
            "\n",
            "ask my friends.\n",
            "<PAD> <PAD> <PAD> <PAD> <PAD> <PAD> <PAD> <PAD> mia amici\n",
            "----------------------------------------\n",
            "\n",
            "you'll die in jail.\n",
            "<PAD> <PAD> <PAD> <PAD> <PAD> <PAD> <PAD> morirete in prigione\n",
            "----------------------------------------\n",
            "\n",
            "we speak french.\n",
            "<PAD> <PAD> <PAD> <PAD> <PAD> <PAD> <PAD> <PAD> a francese\n",
            "----------------------------------------\n",
            "\n",
            "how can you lose?\n",
            "<PAD> <PAD> <PAD> <PAD> <PAD> <PAD> <PAD> andare a perdere\n",
            "----------------------------------------\n",
            "\n",
            "please try one.\n",
            "<PAD> <PAD> <PAD> <PAD> <PAD> <PAD> <PAD> favore per favore\n",
            "----------------------------------------\n",
            "\n",
            "i know that.\n",
            "<PAD> <PAD> <PAD> <PAD> <PAD> <PAD> <PAD> <PAD> la so\n",
            "----------------------------------------\n",
            "\n",
            "i know tom likes it.\n",
            "<PAD> <PAD> <PAD> <PAD> <PAD> <PAD> che tom a piaciuto\n",
            "----------------------------------------\n",
            "\n",
            "give me an apple.\n",
            "<PAD> <PAD> <PAD> <PAD> <PAD> <PAD> <PAD> dia un mela\n",
            "----------------------------------------\n",
            "\n",
            "excuse the mess.\n",
            "<PAD> <PAD> <PAD> <PAD> <PAD> <PAD> <PAD> <PAD> la lista\n",
            "----------------------------------------\n",
            "\n",
            "tom won't miss you.\n",
            "<PAD> <PAD> <PAD> <PAD> <PAD> <PAD> tom non non farà\n",
            "----------------------------------------\n",
            "\n"
          ]
        }
      ]
    },
    {
      "cell_type": "code",
      "source": [
        "evaluate_model(model_RNN)"
      ],
      "metadata": {
        "colab": {
          "base_uri": "https://localhost:8080/"
        },
        "id": "C8KUK9F1gu4r",
        "outputId": "9bc95965-01a2-4e76-8651-8b608c580c13"
      },
      "id": "C8KUK9F1gu4r",
      "execution_count": 31,
      "outputs": [
        {
          "output_type": "stream",
          "name": "stdout",
          "text": [
            "\u001b[1m313/313\u001b[0m \u001b[32m━━━━━━━━━━━━━━━━━━━━\u001b[0m\u001b[37m\u001b[0m \u001b[1m3s\u001b[0m 6ms/step - accuracy: 0.7534 - loss: 1.4675\n"
          ]
        }
      ]
    },
    {
      "cell_type": "markdown",
      "source": [
        "### BIDIRECTIONAL LSTM"
      ],
      "metadata": {
        "id": "3lIAnbJLc0k5"
      },
      "id": "3lIAnbJLc0k5"
    },
    {
      "cell_type": "code",
      "source": [
        "model_BidLSTM = Sequential()\n",
        "# input = vocabolary_eng > input_length = maxlen_ita > perchè IL TUTTO E' PADDATO ALLA MAXLEN POSSIBILE.\n",
        "model_BidLSTM.add(Embedding(vocabolary_eng, 128, input_length=maxlen_ita))\n",
        "# Devo ritornare le sequenze tra i vari neuronin perchè c'è più di un layer\n",
        "model_BidLSTM.add(Bidirectional(LSTM(64, return_sequences=True, activation=\"tanh\")))\n",
        "model_BidLSTM.add(Bidirectional(LSTM(64, return_sequences=True, activation=\"tanh\")))\n",
        "model_BidLSTM.add(TimeDistributed(Dense(vocabolary_ita, activation=\"softmax\")))\n",
        "model_BidLSTM.summary()"
      ],
      "metadata": {
        "colab": {
          "base_uri": "https://localhost:8080/",
          "height": 272
        },
        "id": "ykCb3NaXcy6B",
        "outputId": "e6abf77a-c85a-4624-8a3e-a79ad764c4f5"
      },
      "id": "ykCb3NaXcy6B",
      "execution_count": 16,
      "outputs": [
        {
          "output_type": "display_data",
          "data": {
            "text/plain": [
              "\u001b[1mModel: \"sequential\"\u001b[0m\n"
            ],
            "text/html": [
              "<pre style=\"white-space:pre;overflow-x:auto;line-height:normal;font-family:Menlo,'DejaVu Sans Mono',consolas,'Courier New',monospace\"><span style=\"font-weight: bold\">Model: \"sequential\"</span>\n",
              "</pre>\n"
            ]
          },
          "metadata": {}
        },
        {
          "output_type": "display_data",
          "data": {
            "text/plain": [
              "┏━━━━━━━━━━━━━━━━━━━━━━━━━━━━━━━━━━━━━━┳━━━━━━━━━━━━━━━━━━━━━━━━━━━━━┳━━━━━━━━━━━━━━━━━┓\n",
              "┃\u001b[1m \u001b[0m\u001b[1mLayer (type)                        \u001b[0m\u001b[1m \u001b[0m┃\u001b[1m \u001b[0m\u001b[1mOutput Shape               \u001b[0m\u001b[1m \u001b[0m┃\u001b[1m \u001b[0m\u001b[1m        Param #\u001b[0m\u001b[1m \u001b[0m┃\n",
              "┡━━━━━━━━━━━━━━━━━━━━━━━━━━━━━━━━━━━━━━╇━━━━━━━━━━━━━━━━━━━━━━━━━━━━━╇━━━━━━━━━━━━━━━━━┩\n",
              "│ embedding (\u001b[38;5;33mEmbedding\u001b[0m)                │ ?                           │     \u001b[38;5;34m0\u001b[0m (unbuilt) │\n",
              "├──────────────────────────────────────┼─────────────────────────────┼─────────────────┤\n",
              "│ bidirectional (\u001b[38;5;33mBidirectional\u001b[0m)        │ ?                           │     \u001b[38;5;34m0\u001b[0m (unbuilt) │\n",
              "├──────────────────────────────────────┼─────────────────────────────┼─────────────────┤\n",
              "│ bidirectional_1 (\u001b[38;5;33mBidirectional\u001b[0m)      │ ?                           │     \u001b[38;5;34m0\u001b[0m (unbuilt) │\n",
              "├──────────────────────────────────────┼─────────────────────────────┼─────────────────┤\n",
              "│ time_distributed (\u001b[38;5;33mTimeDistributed\u001b[0m)   │ ?                           │     \u001b[38;5;34m0\u001b[0m (unbuilt) │\n",
              "└──────────────────────────────────────┴─────────────────────────────┴─────────────────┘\n"
            ],
            "text/html": [
              "<pre style=\"white-space:pre;overflow-x:auto;line-height:normal;font-family:Menlo,'DejaVu Sans Mono',consolas,'Courier New',monospace\">┏━━━━━━━━━━━━━━━━━━━━━━━━━━━━━━━━━━━━━━┳━━━━━━━━━━━━━━━━━━━━━━━━━━━━━┳━━━━━━━━━━━━━━━━━┓\n",
              "┃<span style=\"font-weight: bold\"> Layer (type)                         </span>┃<span style=\"font-weight: bold\"> Output Shape                </span>┃<span style=\"font-weight: bold\">         Param # </span>┃\n",
              "┡━━━━━━━━━━━━━━━━━━━━━━━━━━━━━━━━━━━━━━╇━━━━━━━━━━━━━━━━━━━━━━━━━━━━━╇━━━━━━━━━━━━━━━━━┩\n",
              "│ embedding (<span style=\"color: #0087ff; text-decoration-color: #0087ff\">Embedding</span>)                │ ?                           │     <span style=\"color: #00af00; text-decoration-color: #00af00\">0</span> (unbuilt) │\n",
              "├──────────────────────────────────────┼─────────────────────────────┼─────────────────┤\n",
              "│ bidirectional (<span style=\"color: #0087ff; text-decoration-color: #0087ff\">Bidirectional</span>)        │ ?                           │     <span style=\"color: #00af00; text-decoration-color: #00af00\">0</span> (unbuilt) │\n",
              "├──────────────────────────────────────┼─────────────────────────────┼─────────────────┤\n",
              "│ bidirectional_1 (<span style=\"color: #0087ff; text-decoration-color: #0087ff\">Bidirectional</span>)      │ ?                           │     <span style=\"color: #00af00; text-decoration-color: #00af00\">0</span> (unbuilt) │\n",
              "├──────────────────────────────────────┼─────────────────────────────┼─────────────────┤\n",
              "│ time_distributed (<span style=\"color: #0087ff; text-decoration-color: #0087ff\">TimeDistributed</span>)   │ ?                           │     <span style=\"color: #00af00; text-decoration-color: #00af00\">0</span> (unbuilt) │\n",
              "└──────────────────────────────────────┴─────────────────────────────┴─────────────────┘\n",
              "</pre>\n"
            ]
          },
          "metadata": {}
        },
        {
          "output_type": "display_data",
          "data": {
            "text/plain": [
              "\u001b[1m Total params: \u001b[0m\u001b[38;5;34m0\u001b[0m (0.00 B)\n"
            ],
            "text/html": [
              "<pre style=\"white-space:pre;overflow-x:auto;line-height:normal;font-family:Menlo,'DejaVu Sans Mono',consolas,'Courier New',monospace\"><span style=\"font-weight: bold\"> Total params: </span><span style=\"color: #00af00; text-decoration-color: #00af00\">0</span> (0.00 B)\n",
              "</pre>\n"
            ]
          },
          "metadata": {}
        },
        {
          "output_type": "display_data",
          "data": {
            "text/plain": [
              "\u001b[1m Trainable params: \u001b[0m\u001b[38;5;34m0\u001b[0m (0.00 B)\n"
            ],
            "text/html": [
              "<pre style=\"white-space:pre;overflow-x:auto;line-height:normal;font-family:Menlo,'DejaVu Sans Mono',consolas,'Courier New',monospace\"><span style=\"font-weight: bold\"> Trainable params: </span><span style=\"color: #00af00; text-decoration-color: #00af00\">0</span> (0.00 B)\n",
              "</pre>\n"
            ]
          },
          "metadata": {}
        },
        {
          "output_type": "display_data",
          "data": {
            "text/plain": [
              "\u001b[1m Non-trainable params: \u001b[0m\u001b[38;5;34m0\u001b[0m (0.00 B)\n"
            ],
            "text/html": [
              "<pre style=\"white-space:pre;overflow-x:auto;line-height:normal;font-family:Menlo,'DejaVu Sans Mono',consolas,'Courier New',monospace\"><span style=\"font-weight: bold\"> Non-trainable params: </span><span style=\"color: #00af00; text-decoration-color: #00af00\">0</span> (0.00 B)\n",
              "</pre>\n"
            ]
          },
          "metadata": {}
        }
      ]
    },
    {
      "cell_type": "code",
      "source": [
        "import mlflow\n",
        "import mlflow.keras\n",
        "\n",
        "mlflow.set_experiment(\"BidLSTM_Translation_ING_ITA\")"
      ],
      "metadata": {
        "colab": {
          "base_uri": "https://localhost:8080/"
        },
        "id": "zapoMCkspEn_",
        "outputId": "ef24a6de-3458-419d-bc29-7ccbb30b3b96"
      },
      "id": "zapoMCkspEn_",
      "execution_count": 17,
      "outputs": [
        {
          "output_type": "execute_result",
          "data": {
            "text/plain": [
              "<Experiment: artifact_location='file:///content/mlruns/479345570290482522', creation_time=1743952063722, experiment_id='479345570290482522', last_update_time=1743952063722, lifecycle_stage='active', name='BidLSTM_Translation_ING_ITA', tags={}>"
            ]
          },
          "metadata": {},
          "execution_count": 17
        }
      ]
    },
    {
      "cell_type": "code",
      "source": [
        "def show_translate_file(model, filename=\"translation_output.txt\"):\n",
        "    with open(filename, \"w\", encoding=\"utf-8\") as f:\n",
        "        for i in range(20):\n",
        "            # Predico solo 1 frase alla volta per evitare problemi di memoria\n",
        "            pred = model.predict(np.expand_dims(traslate_padding_sequences_test[i], axis=0), verbose=0)\n",
        "\n",
        "            f.write(\"Original:\\n\")\n",
        "            f.write(str(xtest[i]) + \"\\n\")\n",
        "\n",
        "            translation = logits_to_text(pred[0], tokenizer_ita)\n",
        "            f.write(\"Predicted:\\n\")\n",
        "            f.write(translation + \"\\n\")\n",
        "            f.write(\"-\" * 40 + \"\\n\")"
      ],
      "metadata": {
        "id": "r6XatJ9Epmjq"
      },
      "id": "r6XatJ9Epmjq",
      "execution_count": 18,
      "outputs": []
    },
    {
      "cell_type": "code",
      "source": [
        "with mlflow.start_run(run_name=\"initial_200_epochs\"):\n",
        "    model_BidLSTM.compile(optimizer='rmsprop', loss='sparse_categorical_crossentropy', metrics=['accuracy'])\n",
        "\n",
        "    history = model_BidLSTM.fit(\n",
        "        traslate_padding_sequences_train,\n",
        "        padded_train_sequences_ita,\n",
        "        validation_split=0.2,\n",
        "        epochs=200,\n",
        "        batch_size=512\n",
        "    )\n",
        "\n",
        "    # Logga il modello\n",
        "    mlflow.keras.log_model(model_BidLSTM, \"BidLSTM_model_200\")\n",
        "    mlflow.log_param(\"epochs\", 200)\n",
        "\n",
        "    # Logga metriche di fine epoca\n",
        "    for epoch, acc in enumerate(history.history[\"accuracy\"]):\n",
        "        mlflow.log_metric(\"train_accuracy\", acc, step=epoch)\n",
        "    for epoch, val_acc in enumerate(history.history[\"val_accuracy\"]):\n",
        "        mlflow.log_metric(\"val_accuracy\", val_acc, step=epoch)\n",
        "\n",
        "    show_translate_file(model_BidLSTM, \"translation_output.txt\")\n",
        "    mlflow.log_artifact(\"translation_output.txt\", artifact_path=\"translations\")\n"
      ],
      "metadata": {
        "colab": {
          "base_uri": "https://localhost:8080/",
          "height": 1000
        },
        "id": "msM5Xg_wuKHa",
        "outputId": "60ede898-1892-433a-f912-667acdb59821"
      },
      "id": "msM5Xg_wuKHa",
      "execution_count": 25,
      "outputs": [
        {
          "output_type": "display_data",
          "data": {
            "text/plain": [],
            "text/html": [
              "<pre style=\"white-space:pre;overflow-x:auto;line-height:normal;font-family:Menlo,'DejaVu Sans Mono',consolas,'Courier New',monospace\"></pre>\n"
            ]
          },
          "metadata": {}
        },
        {
          "output_type": "stream",
          "name": "stdout",
          "text": [
            "Epoch 1/200\n",
            "\u001b[1m63/63\u001b[0m \u001b[32m━━━━━━━━━━━━━━━━━━━━\u001b[0m\u001b[37m\u001b[0m \u001b[1m10s\u001b[0m 104ms/step - accuracy: 0.8409 - loss: 0.7701 - val_accuracy: 0.7909 - val_loss: 1.1479\n",
            "Epoch 2/200\n",
            "\u001b[1m63/63\u001b[0m \u001b[32m━━━━━━━━━━━━━━━━━━━━\u001b[0m\u001b[37m\u001b[0m \u001b[1m10s\u001b[0m 103ms/step - accuracy: 0.8422 - loss: 0.7633 - val_accuracy: 0.7897 - val_loss: 1.1468\n",
            "Epoch 3/200\n",
            "\u001b[1m63/63\u001b[0m \u001b[32m━━━━━━━━━━━━━━━━━━━━\u001b[0m\u001b[37m\u001b[0m \u001b[1m10s\u001b[0m 102ms/step - accuracy: 0.8423 - loss: 0.7596 - val_accuracy: 0.7902 - val_loss: 1.1452\n",
            "Epoch 4/200\n",
            "\u001b[1m63/63\u001b[0m \u001b[32m━━━━━━━━━━━━━━━━━━━━\u001b[0m\u001b[37m\u001b[0m \u001b[1m10s\u001b[0m 93ms/step - accuracy: 0.8435 - loss: 0.7539 - val_accuracy: 0.7903 - val_loss: 1.1448\n",
            "Epoch 5/200\n",
            "\u001b[1m63/63\u001b[0m \u001b[32m━━━━━━━━━━━━━━━━━━━━\u001b[0m\u001b[37m\u001b[0m \u001b[1m11s\u001b[0m 102ms/step - accuracy: 0.8431 - loss: 0.7547 - val_accuracy: 0.7930 - val_loss: 1.1444\n",
            "Epoch 6/200\n",
            "\u001b[1m63/63\u001b[0m \u001b[32m━━━━━━━━━━━━━━━━━━━━\u001b[0m\u001b[37m\u001b[0m \u001b[1m10s\u001b[0m 93ms/step - accuracy: 0.8436 - loss: 0.7511 - val_accuracy: 0.7916 - val_loss: 1.1438\n",
            "Epoch 7/200\n",
            "\u001b[1m63/63\u001b[0m \u001b[32m━━━━━━━━━━━━━━━━━━━━\u001b[0m\u001b[37m\u001b[0m \u001b[1m10s\u001b[0m 94ms/step - accuracy: 0.8448 - loss: 0.7466 - val_accuracy: 0.7885 - val_loss: 1.1404\n",
            "Epoch 8/200\n",
            "\u001b[1m63/63\u001b[0m \u001b[32m━━━━━━━━━━━━━━━━━━━━\u001b[0m\u001b[37m\u001b[0m \u001b[1m11s\u001b[0m 105ms/step - accuracy: 0.8442 - loss: 0.7446 - val_accuracy: 0.7896 - val_loss: 1.1419\n",
            "Epoch 9/200\n",
            "\u001b[1m63/63\u001b[0m \u001b[32m━━━━━━━━━━━━━━━━━━━━\u001b[0m\u001b[37m\u001b[0m \u001b[1m6s\u001b[0m 93ms/step - accuracy: 0.8445 - loss: 0.7419 - val_accuracy: 0.7917 - val_loss: 1.1392\n",
            "Epoch 10/200\n",
            "\u001b[1m63/63\u001b[0m \u001b[32m━━━━━━━━━━━━━━━━━━━━\u001b[0m\u001b[37m\u001b[0m \u001b[1m7s\u001b[0m 104ms/step - accuracy: 0.8454 - loss: 0.7416 - val_accuracy: 0.7899 - val_loss: 1.1396\n",
            "Epoch 11/200\n",
            "\u001b[1m63/63\u001b[0m \u001b[32m━━━━━━━━━━━━━━━━━━━━\u001b[0m\u001b[37m\u001b[0m \u001b[1m10s\u001b[0m 94ms/step - accuracy: 0.8450 - loss: 0.7364 - val_accuracy: 0.7913 - val_loss: 1.1349\n",
            "Epoch 12/200\n",
            "\u001b[1m63/63\u001b[0m \u001b[32m━━━━━━━━━━━━━━━━━━━━\u001b[0m\u001b[37m\u001b[0m \u001b[1m10s\u001b[0m 95ms/step - accuracy: 0.8463 - loss: 0.7291 - val_accuracy: 0.7918 - val_loss: 1.1340\n",
            "Epoch 13/200\n",
            "\u001b[1m63/63\u001b[0m \u001b[32m━━━━━━━━━━━━━━━━━━━━\u001b[0m\u001b[37m\u001b[0m \u001b[1m10s\u001b[0m 93ms/step - accuracy: 0.8463 - loss: 0.7314 - val_accuracy: 0.7905 - val_loss: 1.1338\n",
            "Epoch 14/200\n",
            "\u001b[1m63/63\u001b[0m \u001b[32m━━━━━━━━━━━━━━━━━━━━\u001b[0m\u001b[37m\u001b[0m \u001b[1m11s\u001b[0m 103ms/step - accuracy: 0.8463 - loss: 0.7273 - val_accuracy: 0.7928 - val_loss: 1.1336\n",
            "Epoch 15/200\n",
            "\u001b[1m63/63\u001b[0m \u001b[32m━━━━━━━━━━━━━━━━━━━━\u001b[0m\u001b[37m\u001b[0m \u001b[1m7s\u001b[0m 104ms/step - accuracy: 0.8483 - loss: 0.7199 - val_accuracy: 0.7912 - val_loss: 1.1341\n",
            "Epoch 16/200\n",
            "\u001b[1m63/63\u001b[0m \u001b[32m━━━━━━━━━━━━━━━━━━━━\u001b[0m\u001b[37m\u001b[0m \u001b[1m10s\u001b[0m 104ms/step - accuracy: 0.8479 - loss: 0.7196 - val_accuracy: 0.7930 - val_loss: 1.1311\n",
            "Epoch 17/200\n",
            "\u001b[1m63/63\u001b[0m \u001b[32m━━━━━━━━━━━━━━━━━━━━\u001b[0m\u001b[37m\u001b[0m \u001b[1m10s\u001b[0m 103ms/step - accuracy: 0.8482 - loss: 0.7174 - val_accuracy: 0.7900 - val_loss: 1.1309\n",
            "Epoch 18/200\n",
            "\u001b[1m63/63\u001b[0m \u001b[32m━━━━━━━━━━━━━━━━━━━━\u001b[0m\u001b[37m\u001b[0m \u001b[1m6s\u001b[0m 103ms/step - accuracy: 0.8489 - loss: 0.7166 - val_accuracy: 0.7932 - val_loss: 1.1285\n",
            "Epoch 19/200\n",
            "\u001b[1m63/63\u001b[0m \u001b[32m━━━━━━━━━━━━━━━━━━━━\u001b[0m\u001b[37m\u001b[0m \u001b[1m10s\u001b[0m 95ms/step - accuracy: 0.8491 - loss: 0.7111 - val_accuracy: 0.7925 - val_loss: 1.1308\n",
            "Epoch 20/200\n",
            "\u001b[1m63/63\u001b[0m \u001b[32m━━━━━━━━━━━━━━━━━━━━\u001b[0m\u001b[37m\u001b[0m \u001b[1m6s\u001b[0m 103ms/step - accuracy: 0.8496 - loss: 0.7069 - val_accuracy: 0.7905 - val_loss: 1.1295\n",
            "Epoch 21/200\n",
            "\u001b[1m63/63\u001b[0m \u001b[32m━━━━━━━━━━━━━━━━━━━━\u001b[0m\u001b[37m\u001b[0m \u001b[1m10s\u001b[0m 94ms/step - accuracy: 0.8505 - loss: 0.7032 - val_accuracy: 0.7931 - val_loss: 1.1292\n",
            "Epoch 22/200\n",
            "\u001b[1m63/63\u001b[0m \u001b[32m━━━━━━━━━━━━━━━━━━━━\u001b[0m\u001b[37m\u001b[0m \u001b[1m10s\u001b[0m 94ms/step - accuracy: 0.8505 - loss: 0.7003 - val_accuracy: 0.7910 - val_loss: 1.1254\n",
            "Epoch 23/200\n",
            "\u001b[1m63/63\u001b[0m \u001b[32m━━━━━━━━━━━━━━━━━━━━\u001b[0m\u001b[37m\u001b[0m \u001b[1m7s\u001b[0m 104ms/step - accuracy: 0.8506 - loss: 0.7008 - val_accuracy: 0.7897 - val_loss: 1.1270\n",
            "Epoch 24/200\n",
            "\u001b[1m63/63\u001b[0m \u001b[32m━━━━━━━━━━━━━━━━━━━━\u001b[0m\u001b[37m\u001b[0m \u001b[1m10s\u001b[0m 104ms/step - accuracy: 0.8517 - loss: 0.6940 - val_accuracy: 0.7924 - val_loss: 1.1244\n",
            "Epoch 25/200\n",
            "\u001b[1m63/63\u001b[0m \u001b[32m━━━━━━━━━━━━━━━━━━━━\u001b[0m\u001b[37m\u001b[0m \u001b[1m10s\u001b[0m 103ms/step - accuracy: 0.8521 - loss: 0.6926 - val_accuracy: 0.7929 - val_loss: 1.1249\n",
            "Epoch 26/200\n",
            "\u001b[1m63/63\u001b[0m \u001b[32m━━━━━━━━━━━━━━━━━━━━\u001b[0m\u001b[37m\u001b[0m \u001b[1m10s\u001b[0m 94ms/step - accuracy: 0.8518 - loss: 0.6941 - val_accuracy: 0.7933 - val_loss: 1.1263\n",
            "Epoch 27/200\n",
            "\u001b[1m63/63\u001b[0m \u001b[32m━━━━━━━━━━━━━━━━━━━━\u001b[0m\u001b[37m\u001b[0m \u001b[1m11s\u001b[0m 103ms/step - accuracy: 0.8527 - loss: 0.6876 - val_accuracy: 0.7924 - val_loss: 1.1228\n",
            "Epoch 28/200\n",
            "\u001b[1m63/63\u001b[0m \u001b[32m━━━━━━━━━━━━━━━━━━━━\u001b[0m\u001b[37m\u001b[0m \u001b[1m10s\u001b[0m 104ms/step - accuracy: 0.8524 - loss: 0.6882 - val_accuracy: 0.7948 - val_loss: 1.1230\n",
            "Epoch 29/200\n",
            "\u001b[1m63/63\u001b[0m \u001b[32m━━━━━━━━━━━━━━━━━━━━\u001b[0m\u001b[37m\u001b[0m \u001b[1m10s\u001b[0m 95ms/step - accuracy: 0.8520 - loss: 0.6884 - val_accuracy: 0.7915 - val_loss: 1.1188\n",
            "Epoch 30/200\n",
            "\u001b[1m63/63\u001b[0m \u001b[32m━━━━━━━━━━━━━━━━━━━━\u001b[0m\u001b[37m\u001b[0m \u001b[1m7s\u001b[0m 104ms/step - accuracy: 0.8527 - loss: 0.6805 - val_accuracy: 0.7951 - val_loss: 1.1242\n",
            "Epoch 31/200\n",
            "\u001b[1m63/63\u001b[0m \u001b[32m━━━━━━━━━━━━━━━━━━━━\u001b[0m\u001b[37m\u001b[0m \u001b[1m10s\u001b[0m 104ms/step - accuracy: 0.8537 - loss: 0.6796 - val_accuracy: 0.7929 - val_loss: 1.1170\n",
            "Epoch 32/200\n",
            "\u001b[1m63/63\u001b[0m \u001b[32m━━━━━━━━━━━━━━━━━━━━\u001b[0m\u001b[37m\u001b[0m \u001b[1m10s\u001b[0m 94ms/step - accuracy: 0.8545 - loss: 0.6775 - val_accuracy: 0.7950 - val_loss: 1.1199\n",
            "Epoch 33/200\n",
            "\u001b[1m63/63\u001b[0m \u001b[32m━━━━━━━━━━━━━━━━━━━━\u001b[0m\u001b[37m\u001b[0m \u001b[1m10s\u001b[0m 94ms/step - accuracy: 0.8544 - loss: 0.6769 - val_accuracy: 0.7930 - val_loss: 1.1186\n",
            "Epoch 34/200\n",
            "\u001b[1m63/63\u001b[0m \u001b[32m━━━━━━━━━━━━━━━━━━━━\u001b[0m\u001b[37m\u001b[0m \u001b[1m11s\u001b[0m 103ms/step - accuracy: 0.8543 - loss: 0.6696 - val_accuracy: 0.7946 - val_loss: 1.1161\n",
            "Epoch 35/200\n",
            "\u001b[1m63/63\u001b[0m \u001b[32m━━━━━━━━━━━━━━━━━━━━\u001b[0m\u001b[37m\u001b[0m \u001b[1m10s\u001b[0m 95ms/step - accuracy: 0.8558 - loss: 0.6648 - val_accuracy: 0.7904 - val_loss: 1.1169\n",
            "Epoch 36/200\n",
            "\u001b[1m63/63\u001b[0m \u001b[32m━━━━━━━━━━━━━━━━━━━━\u001b[0m\u001b[37m\u001b[0m \u001b[1m6s\u001b[0m 103ms/step - accuracy: 0.8557 - loss: 0.6676 - val_accuracy: 0.7950 - val_loss: 1.1158\n",
            "Epoch 37/200\n",
            "\u001b[1m63/63\u001b[0m \u001b[32m━━━━━━━━━━━━━━━━━━━━\u001b[0m\u001b[37m\u001b[0m \u001b[1m10s\u001b[0m 94ms/step - accuracy: 0.8557 - loss: 0.6651 - val_accuracy: 0.7923 - val_loss: 1.1171\n",
            "Epoch 38/200\n",
            "\u001b[1m63/63\u001b[0m \u001b[32m━━━━━━━━━━━━━━━━━━━━\u001b[0m\u001b[37m\u001b[0m \u001b[1m7s\u001b[0m 104ms/step - accuracy: 0.8559 - loss: 0.6622 - val_accuracy: 0.7948 - val_loss: 1.1167\n",
            "Epoch 39/200\n",
            "\u001b[1m63/63\u001b[0m \u001b[32m━━━━━━━━━━━━━━━━━━━━\u001b[0m\u001b[37m\u001b[0m \u001b[1m10s\u001b[0m 105ms/step - accuracy: 0.8561 - loss: 0.6613 - val_accuracy: 0.7952 - val_loss: 1.1124\n",
            "Epoch 40/200\n",
            "\u001b[1m63/63\u001b[0m \u001b[32m━━━━━━━━━━━━━━━━━━━━\u001b[0m\u001b[37m\u001b[0m \u001b[1m10s\u001b[0m 95ms/step - accuracy: 0.8570 - loss: 0.6558 - val_accuracy: 0.7926 - val_loss: 1.1115\n",
            "Epoch 41/200\n",
            "\u001b[1m63/63\u001b[0m \u001b[32m━━━━━━━━━━━━━━━━━━━━\u001b[0m\u001b[37m\u001b[0m \u001b[1m7s\u001b[0m 104ms/step - accuracy: 0.8570 - loss: 0.6552 - val_accuracy: 0.7955 - val_loss: 1.1122\n",
            "Epoch 42/200\n",
            "\u001b[1m63/63\u001b[0m \u001b[32m━━━━━━━━━━━━━━━━━━━━\u001b[0m\u001b[37m\u001b[0m \u001b[1m7s\u001b[0m 104ms/step - accuracy: 0.8582 - loss: 0.6493 - val_accuracy: 0.7955 - val_loss: 1.1106\n",
            "Epoch 43/200\n",
            "\u001b[1m63/63\u001b[0m \u001b[32m━━━━━━━━━━━━━━━━━━━━\u001b[0m\u001b[37m\u001b[0m \u001b[1m10s\u001b[0m 103ms/step - accuracy: 0.8591 - loss: 0.6441 - val_accuracy: 0.7948 - val_loss: 1.1107\n",
            "Epoch 44/200\n",
            "\u001b[1m63/63\u001b[0m \u001b[32m━━━━━━━━━━━━━━━━━━━━\u001b[0m\u001b[37m\u001b[0m \u001b[1m10s\u001b[0m 94ms/step - accuracy: 0.8587 - loss: 0.6477 - val_accuracy: 0.7951 - val_loss: 1.1081\n",
            "Epoch 45/200\n",
            "\u001b[1m63/63\u001b[0m \u001b[32m━━━━━━━━━━━━━━━━━━━━\u001b[0m\u001b[37m\u001b[0m \u001b[1m10s\u001b[0m 94ms/step - accuracy: 0.8591 - loss: 0.6417 - val_accuracy: 0.7936 - val_loss: 1.1090\n",
            "Epoch 46/200\n",
            "\u001b[1m63/63\u001b[0m \u001b[32m━━━━━━━━━━━━━━━━━━━━\u001b[0m\u001b[37m\u001b[0m \u001b[1m6s\u001b[0m 95ms/step - accuracy: 0.8586 - loss: 0.6404 - val_accuracy: 0.7963 - val_loss: 1.1106\n",
            "Epoch 47/200\n",
            "\u001b[1m63/63\u001b[0m \u001b[32m━━━━━━━━━━━━━━━━━━━━\u001b[0m\u001b[37m\u001b[0m \u001b[1m6s\u001b[0m 94ms/step - accuracy: 0.8602 - loss: 0.6354 - val_accuracy: 0.7949 - val_loss: 1.1082\n",
            "Epoch 48/200\n",
            "\u001b[1m63/63\u001b[0m \u001b[32m━━━━━━━━━━━━━━━━━━━━\u001b[0m\u001b[37m\u001b[0m \u001b[1m7s\u001b[0m 105ms/step - accuracy: 0.8605 - loss: 0.6347 - val_accuracy: 0.7940 - val_loss: 1.1052\n",
            "Epoch 49/200\n",
            "\u001b[1m63/63\u001b[0m \u001b[32m━━━━━━━━━━━━━━━━━━━━\u001b[0m\u001b[37m\u001b[0m \u001b[1m6s\u001b[0m 94ms/step - accuracy: 0.8597 - loss: 0.6372 - val_accuracy: 0.7958 - val_loss: 1.1098\n",
            "Epoch 50/200\n",
            "\u001b[1m63/63\u001b[0m \u001b[32m━━━━━━━━━━━━━━━━━━━━\u001b[0m\u001b[37m\u001b[0m \u001b[1m11s\u001b[0m 103ms/step - accuracy: 0.8611 - loss: 0.6282 - val_accuracy: 0.7963 - val_loss: 1.1067\n",
            "Epoch 51/200\n",
            "\u001b[1m63/63\u001b[0m \u001b[32m━━━━━━━━━━━━━━━━━━━━\u001b[0m\u001b[37m\u001b[0m \u001b[1m10s\u001b[0m 104ms/step - accuracy: 0.8617 - loss: 0.6257 - val_accuracy: 0.7951 - val_loss: 1.1043\n",
            "Epoch 52/200\n",
            "\u001b[1m63/63\u001b[0m \u001b[32m━━━━━━━━━━━━━━━━━━━━\u001b[0m\u001b[37m\u001b[0m \u001b[1m6s\u001b[0m 95ms/step - accuracy: 0.8612 - loss: 0.6278 - val_accuracy: 0.7941 - val_loss: 1.1054\n",
            "Epoch 53/200\n",
            "\u001b[1m63/63\u001b[0m \u001b[32m━━━━━━━━━━━━━━━━━━━━\u001b[0m\u001b[37m\u001b[0m \u001b[1m11s\u001b[0m 103ms/step - accuracy: 0.8611 - loss: 0.6262 - val_accuracy: 0.7930 - val_loss: 1.1063\n",
            "Epoch 54/200\n",
            "\u001b[1m63/63\u001b[0m \u001b[32m━━━━━━━━━━━━━━━━━━━━\u001b[0m\u001b[37m\u001b[0m \u001b[1m6s\u001b[0m 94ms/step - accuracy: 0.8609 - loss: 0.6244 - val_accuracy: 0.7944 - val_loss: 1.1025\n",
            "Epoch 55/200\n",
            "\u001b[1m63/63\u001b[0m \u001b[32m━━━━━━━━━━━━━━━━━━━━\u001b[0m\u001b[37m\u001b[0m \u001b[1m10s\u001b[0m 95ms/step - accuracy: 0.8630 - loss: 0.6185 - val_accuracy: 0.7951 - val_loss: 1.1026\n",
            "Epoch 56/200\n",
            "\u001b[1m63/63\u001b[0m \u001b[32m━━━━━━━━━━━━━━━━━━━━\u001b[0m\u001b[37m\u001b[0m \u001b[1m7s\u001b[0m 103ms/step - accuracy: 0.8630 - loss: 0.6185 - val_accuracy: 0.7935 - val_loss: 1.1051\n",
            "Epoch 57/200\n",
            "\u001b[1m63/63\u001b[0m \u001b[32m━━━━━━━━━━━━━━━━━━━━\u001b[0m\u001b[37m\u001b[0m \u001b[1m10s\u001b[0m 103ms/step - accuracy: 0.8631 - loss: 0.6175 - val_accuracy: 0.7931 - val_loss: 1.1031\n",
            "Epoch 58/200\n",
            "\u001b[1m63/63\u001b[0m \u001b[32m━━━━━━━━━━━━━━━━━━━━\u001b[0m\u001b[37m\u001b[0m \u001b[1m7s\u001b[0m 104ms/step - accuracy: 0.8651 - loss: 0.6080 - val_accuracy: 0.7950 - val_loss: 1.0988\n",
            "Epoch 59/200\n",
            "\u001b[1m63/63\u001b[0m \u001b[32m━━━━━━━━━━━━━━━━━━━━\u001b[0m\u001b[37m\u001b[0m \u001b[1m7s\u001b[0m 104ms/step - accuracy: 0.8641 - loss: 0.6079 - val_accuracy: 0.7946 - val_loss: 1.0999\n",
            "Epoch 60/200\n",
            "\u001b[1m63/63\u001b[0m \u001b[32m━━━━━━━━━━━━━━━━━━━━\u001b[0m\u001b[37m\u001b[0m \u001b[1m10s\u001b[0m 104ms/step - accuracy: 0.8634 - loss: 0.6104 - val_accuracy: 0.7970 - val_loss: 1.0985\n",
            "Epoch 61/200\n",
            "\u001b[1m63/63\u001b[0m \u001b[32m━━━━━━━━━━━━━━━━━━━━\u001b[0m\u001b[37m\u001b[0m \u001b[1m7s\u001b[0m 104ms/step - accuracy: 0.8639 - loss: 0.6063 - val_accuracy: 0.7970 - val_loss: 1.1004\n",
            "Epoch 62/200\n",
            "\u001b[1m63/63\u001b[0m \u001b[32m━━━━━━━━━━━━━━━━━━━━\u001b[0m\u001b[37m\u001b[0m \u001b[1m10s\u001b[0m 96ms/step - accuracy: 0.8649 - loss: 0.6039 - val_accuracy: 0.7962 - val_loss: 1.0987\n",
            "Epoch 63/200\n",
            "\u001b[1m63/63\u001b[0m \u001b[32m━━━━━━━━━━━━━━━━━━━━\u001b[0m\u001b[37m\u001b[0m \u001b[1m11s\u001b[0m 103ms/step - accuracy: 0.8650 - loss: 0.6039 - val_accuracy: 0.7956 - val_loss: 1.0998\n",
            "Epoch 64/200\n",
            "\u001b[1m63/63\u001b[0m \u001b[32m━━━━━━━━━━━━━━━━━━━━\u001b[0m\u001b[37m\u001b[0m \u001b[1m10s\u001b[0m 94ms/step - accuracy: 0.8645 - loss: 0.5992 - val_accuracy: 0.7970 - val_loss: 1.0969\n",
            "Epoch 65/200\n",
            "\u001b[1m63/63\u001b[0m \u001b[32m━━━━━━━━━━━━━━━━━━━━\u001b[0m\u001b[37m\u001b[0m \u001b[1m7s\u001b[0m 105ms/step - accuracy: 0.8664 - loss: 0.5951 - val_accuracy: 0.7950 - val_loss: 1.0971\n",
            "Epoch 66/200\n",
            "\u001b[1m63/63\u001b[0m \u001b[32m━━━━━━━━━━━━━━━━━━━━\u001b[0m\u001b[37m\u001b[0m \u001b[1m10s\u001b[0m 105ms/step - accuracy: 0.8663 - loss: 0.5921 - val_accuracy: 0.7944 - val_loss: 1.0988\n",
            "Epoch 67/200\n",
            "\u001b[1m63/63\u001b[0m \u001b[32m━━━━━━━━━━━━━━━━━━━━\u001b[0m\u001b[37m\u001b[0m \u001b[1m7s\u001b[0m 104ms/step - accuracy: 0.8658 - loss: 0.5944 - val_accuracy: 0.7945 - val_loss: 1.0957\n",
            "Epoch 68/200\n",
            "\u001b[1m63/63\u001b[0m \u001b[32m━━━━━━━━━━━━━━━━━━━━\u001b[0m\u001b[37m\u001b[0m \u001b[1m7s\u001b[0m 105ms/step - accuracy: 0.8667 - loss: 0.5914 - val_accuracy: 0.7958 - val_loss: 1.0961\n",
            "Epoch 69/200\n",
            "\u001b[1m63/63\u001b[0m \u001b[32m━━━━━━━━━━━━━━━━━━━━\u001b[0m\u001b[37m\u001b[0m \u001b[1m10s\u001b[0m 96ms/step - accuracy: 0.8664 - loss: 0.5932 - val_accuracy: 0.7966 - val_loss: 1.0963\n",
            "Epoch 70/200\n",
            "\u001b[1m63/63\u001b[0m \u001b[32m━━━━━━━━━━━━━━━━━━━━\u001b[0m\u001b[37m\u001b[0m \u001b[1m11s\u001b[0m 104ms/step - accuracy: 0.8675 - loss: 0.5852 - val_accuracy: 0.7967 - val_loss: 1.0966\n",
            "Epoch 71/200\n",
            "\u001b[1m63/63\u001b[0m \u001b[32m━━━━━━━━━━━━━━━━━━━━\u001b[0m\u001b[37m\u001b[0m \u001b[1m10s\u001b[0m 94ms/step - accuracy: 0.8677 - loss: 0.5858 - val_accuracy: 0.7981 - val_loss: 1.0972\n",
            "Epoch 72/200\n",
            "\u001b[1m63/63\u001b[0m \u001b[32m━━━━━━━━━━━━━━━━━━━━\u001b[0m\u001b[37m\u001b[0m \u001b[1m10s\u001b[0m 94ms/step - accuracy: 0.8690 - loss: 0.5798 - val_accuracy: 0.7961 - val_loss: 1.0937\n",
            "Epoch 73/200\n",
            "\u001b[1m63/63\u001b[0m \u001b[32m━━━━━━━━━━━━━━━━━━━━\u001b[0m\u001b[37m\u001b[0m \u001b[1m10s\u001b[0m 95ms/step - accuracy: 0.8690 - loss: 0.5783 - val_accuracy: 0.7980 - val_loss: 1.0937\n",
            "Epoch 74/200\n",
            "\u001b[1m63/63\u001b[0m \u001b[32m━━━━━━━━━━━━━━━━━━━━\u001b[0m\u001b[37m\u001b[0m \u001b[1m10s\u001b[0m 94ms/step - accuracy: 0.8689 - loss: 0.5775 - val_accuracy: 0.7967 - val_loss: 1.0915\n",
            "Epoch 75/200\n",
            "\u001b[1m63/63\u001b[0m \u001b[32m━━━━━━━━━━━━━━━━━━━━\u001b[0m\u001b[37m\u001b[0m \u001b[1m11s\u001b[0m 105ms/step - accuracy: 0.8694 - loss: 0.5742 - val_accuracy: 0.7979 - val_loss: 1.0925\n",
            "Epoch 76/200\n",
            "\u001b[1m63/63\u001b[0m \u001b[32m━━━━━━━━━━━━━━━━━━━━\u001b[0m\u001b[37m\u001b[0m \u001b[1m7s\u001b[0m 104ms/step - accuracy: 0.8696 - loss: 0.5733 - val_accuracy: 0.7958 - val_loss: 1.0913\n",
            "Epoch 77/200\n",
            "\u001b[1m63/63\u001b[0m \u001b[32m━━━━━━━━━━━━━━━━━━━━\u001b[0m\u001b[37m\u001b[0m \u001b[1m7s\u001b[0m 104ms/step - accuracy: 0.8696 - loss: 0.5687 - val_accuracy: 0.7960 - val_loss: 1.0933\n",
            "Epoch 78/200\n",
            "\u001b[1m63/63\u001b[0m \u001b[32m━━━━━━━━━━━━━━━━━━━━\u001b[0m\u001b[37m\u001b[0m \u001b[1m7s\u001b[0m 104ms/step - accuracy: 0.8697 - loss: 0.5708 - val_accuracy: 0.7960 - val_loss: 1.0914\n",
            "Epoch 79/200\n",
            "\u001b[1m63/63\u001b[0m \u001b[32m━━━━━━━━━━━━━━━━━━━━\u001b[0m\u001b[37m\u001b[0m \u001b[1m10s\u001b[0m 94ms/step - accuracy: 0.8701 - loss: 0.5682 - val_accuracy: 0.7950 - val_loss: 1.0907\n",
            "Epoch 80/200\n",
            "\u001b[1m63/63\u001b[0m \u001b[32m━━━━━━━━━━━━━━━━━━━━\u001b[0m\u001b[37m\u001b[0m \u001b[1m6s\u001b[0m 103ms/step - accuracy: 0.8698 - loss: 0.5686 - val_accuracy: 0.7977 - val_loss: 1.0909\n",
            "Epoch 81/200\n",
            "\u001b[1m63/63\u001b[0m \u001b[32m━━━━━━━━━━━━━━━━━━━━\u001b[0m\u001b[37m\u001b[0m \u001b[1m10s\u001b[0m 94ms/step - accuracy: 0.8707 - loss: 0.5644 - val_accuracy: 0.7965 - val_loss: 1.0907\n",
            "Epoch 82/200\n",
            "\u001b[1m63/63\u001b[0m \u001b[32m━━━━━━━━━━━━━━━━━━━━\u001b[0m\u001b[37m\u001b[0m \u001b[1m10s\u001b[0m 94ms/step - accuracy: 0.8713 - loss: 0.5601 - val_accuracy: 0.7987 - val_loss: 1.0912\n",
            "Epoch 83/200\n",
            "\u001b[1m63/63\u001b[0m \u001b[32m━━━━━━━━━━━━━━━━━━━━\u001b[0m\u001b[37m\u001b[0m \u001b[1m6s\u001b[0m 92ms/step - accuracy: 0.8713 - loss: 0.5590 - val_accuracy: 0.7966 - val_loss: 1.0891\n",
            "Epoch 84/200\n",
            "\u001b[1m63/63\u001b[0m \u001b[32m━━━━━━━━━━━━━━━━━━━━\u001b[0m\u001b[37m\u001b[0m \u001b[1m6s\u001b[0m 94ms/step - accuracy: 0.8726 - loss: 0.5574 - val_accuracy: 0.7977 - val_loss: 1.0886\n",
            "Epoch 85/200\n",
            "\u001b[1m63/63\u001b[0m \u001b[32m━━━━━━━━━━━━━━━━━━━━\u001b[0m\u001b[37m\u001b[0m \u001b[1m10s\u001b[0m 92ms/step - accuracy: 0.8717 - loss: 0.5555 - val_accuracy: 0.7948 - val_loss: 1.0898\n",
            "Epoch 86/200\n",
            "\u001b[1m63/63\u001b[0m \u001b[32m━━━━━━━━━━━━━━━━━━━━\u001b[0m\u001b[37m\u001b[0m \u001b[1m6s\u001b[0m 103ms/step - accuracy: 0.8714 - loss: 0.5558 - val_accuracy: 0.7955 - val_loss: 1.0895\n",
            "Epoch 87/200\n",
            "\u001b[1m63/63\u001b[0m \u001b[32m━━━━━━━━━━━━━━━━━━━━\u001b[0m\u001b[37m\u001b[0m \u001b[1m6s\u001b[0m 102ms/step - accuracy: 0.8726 - loss: 0.5492 - val_accuracy: 0.7991 - val_loss: 1.0891\n",
            "Epoch 88/200\n",
            "\u001b[1m63/63\u001b[0m \u001b[32m━━━━━━━━━━━━━━━━━━━━\u001b[0m\u001b[37m\u001b[0m \u001b[1m6s\u001b[0m 103ms/step - accuracy: 0.8733 - loss: 0.5468 - val_accuracy: 0.7986 - val_loss: 1.0931\n",
            "Epoch 89/200\n",
            "\u001b[1m63/63\u001b[0m \u001b[32m━━━━━━━━━━━━━━━━━━━━\u001b[0m\u001b[37m\u001b[0m \u001b[1m6s\u001b[0m 93ms/step - accuracy: 0.8723 - loss: 0.5522 - val_accuracy: 0.7976 - val_loss: 1.0883\n",
            "Epoch 90/200\n",
            "\u001b[1m63/63\u001b[0m \u001b[32m━━━━━━━━━━━━━━━━━━━━\u001b[0m\u001b[37m\u001b[0m \u001b[1m6s\u001b[0m 93ms/step - accuracy: 0.8728 - loss: 0.5515 - val_accuracy: 0.7984 - val_loss: 1.0873\n",
            "Epoch 91/200\n",
            "\u001b[1m63/63\u001b[0m \u001b[32m━━━━━━━━━━━━━━━━━━━━\u001b[0m\u001b[37m\u001b[0m \u001b[1m6s\u001b[0m 102ms/step - accuracy: 0.8739 - loss: 0.5438 - val_accuracy: 0.7974 - val_loss: 1.0897\n",
            "Epoch 92/200\n",
            "\u001b[1m63/63\u001b[0m \u001b[32m━━━━━━━━━━━━━━━━━━━━\u001b[0m\u001b[37m\u001b[0m \u001b[1m10s\u001b[0m 93ms/step - accuracy: 0.8752 - loss: 0.5404 - val_accuracy: 0.7955 - val_loss: 1.0887\n",
            "Epoch 93/200\n",
            "\u001b[1m63/63\u001b[0m \u001b[32m━━━━━━━━━━━━━━━━━━━━\u001b[0m\u001b[37m\u001b[0m \u001b[1m11s\u001b[0m 102ms/step - accuracy: 0.8732 - loss: 0.5448 - val_accuracy: 0.7960 - val_loss: 1.0857\n",
            "Epoch 94/200\n",
            "\u001b[1m63/63\u001b[0m \u001b[32m━━━━━━━━━━━━━━━━━━━━\u001b[0m\u001b[37m\u001b[0m \u001b[1m10s\u001b[0m 92ms/step - accuracy: 0.8741 - loss: 0.5385 - val_accuracy: 0.7962 - val_loss: 1.0872\n",
            "Epoch 95/200\n",
            "\u001b[1m63/63\u001b[0m \u001b[32m━━━━━━━━━━━━━━━━━━━━\u001b[0m\u001b[37m\u001b[0m \u001b[1m10s\u001b[0m 93ms/step - accuracy: 0.8745 - loss: 0.5397 - val_accuracy: 0.7984 - val_loss: 1.0865\n",
            "Epoch 96/200\n",
            "\u001b[1m63/63\u001b[0m \u001b[32m━━━━━━━━━━━━━━━━━━━━\u001b[0m\u001b[37m\u001b[0m \u001b[1m6s\u001b[0m 103ms/step - accuracy: 0.8745 - loss: 0.5336 - val_accuracy: 0.7980 - val_loss: 1.0875\n",
            "Epoch 97/200\n",
            "\u001b[1m63/63\u001b[0m \u001b[32m━━━━━━━━━━━━━━━━━━━━\u001b[0m\u001b[37m\u001b[0m \u001b[1m6s\u001b[0m 102ms/step - accuracy: 0.8757 - loss: 0.5301 - val_accuracy: 0.7966 - val_loss: 1.0872\n",
            "Epoch 98/200\n",
            "\u001b[1m63/63\u001b[0m \u001b[32m━━━━━━━━━━━━━━━━━━━━\u001b[0m\u001b[37m\u001b[0m \u001b[1m7s\u001b[0m 104ms/step - accuracy: 0.8754 - loss: 0.5339 - val_accuracy: 0.7948 - val_loss: 1.0883\n",
            "Epoch 99/200\n",
            "\u001b[1m63/63\u001b[0m \u001b[32m━━━━━━━━━━━━━━━━━━━━\u001b[0m\u001b[37m\u001b[0m \u001b[1m10s\u001b[0m 94ms/step - accuracy: 0.8762 - loss: 0.5279 - val_accuracy: 0.7975 - val_loss: 1.0856\n",
            "Epoch 100/200\n",
            "\u001b[1m63/63\u001b[0m \u001b[32m━━━━━━━━━━━━━━━━━━━━\u001b[0m\u001b[37m\u001b[0m \u001b[1m6s\u001b[0m 102ms/step - accuracy: 0.8750 - loss: 0.5289 - val_accuracy: 0.7977 - val_loss: 1.0835\n",
            "Epoch 101/200\n",
            "\u001b[1m63/63\u001b[0m \u001b[32m━━━━━━━━━━━━━━━━━━━━\u001b[0m\u001b[37m\u001b[0m \u001b[1m10s\u001b[0m 94ms/step - accuracy: 0.8757 - loss: 0.5275 - val_accuracy: 0.7982 - val_loss: 1.0878\n",
            "Epoch 102/200\n",
            "\u001b[1m63/63\u001b[0m \u001b[32m━━━━━━━━━━━━━━━━━━━━\u001b[0m\u001b[37m\u001b[0m \u001b[1m11s\u001b[0m 104ms/step - accuracy: 0.8767 - loss: 0.5263 - val_accuracy: 0.7932 - val_loss: 1.0932\n",
            "Epoch 103/200\n",
            "\u001b[1m63/63\u001b[0m \u001b[32m━━━━━━━━━━━━━━━━━━━━\u001b[0m\u001b[37m\u001b[0m \u001b[1m10s\u001b[0m 94ms/step - accuracy: 0.8766 - loss: 0.5235 - val_accuracy: 0.7988 - val_loss: 1.0850\n",
            "Epoch 104/200\n",
            "\u001b[1m63/63\u001b[0m \u001b[32m━━━━━━━━━━━━━━━━━━━━\u001b[0m\u001b[37m\u001b[0m \u001b[1m6s\u001b[0m 102ms/step - accuracy: 0.8763 - loss: 0.5244 - val_accuracy: 0.7983 - val_loss: 1.0850\n",
            "Epoch 105/200\n",
            "\u001b[1m63/63\u001b[0m \u001b[32m━━━━━━━━━━━━━━━━━━━━\u001b[0m\u001b[37m\u001b[0m \u001b[1m10s\u001b[0m 104ms/step - accuracy: 0.8770 - loss: 0.5184 - val_accuracy: 0.7988 - val_loss: 1.0869\n",
            "Epoch 106/200\n",
            "\u001b[1m63/63\u001b[0m \u001b[32m━━━━━━━━━━━━━━━━━━━━\u001b[0m\u001b[37m\u001b[0m \u001b[1m10s\u001b[0m 94ms/step - accuracy: 0.8776 - loss: 0.5189 - val_accuracy: 0.7962 - val_loss: 1.0867\n",
            "Epoch 107/200\n",
            "\u001b[1m63/63\u001b[0m \u001b[32m━━━━━━━━━━━━━━━━━━━━\u001b[0m\u001b[37m\u001b[0m \u001b[1m11s\u001b[0m 104ms/step - accuracy: 0.8775 - loss: 0.5212 - val_accuracy: 0.7991 - val_loss: 1.0847\n",
            "Epoch 108/200\n",
            "\u001b[1m63/63\u001b[0m \u001b[32m━━━━━━━━━━━━━━━━━━━━\u001b[0m\u001b[37m\u001b[0m \u001b[1m10s\u001b[0m 103ms/step - accuracy: 0.8779 - loss: 0.5180 - val_accuracy: 0.7986 - val_loss: 1.0834\n",
            "Epoch 109/200\n",
            "\u001b[1m63/63\u001b[0m \u001b[32m━━━━━━━━━━━━━━━━━━━━\u001b[0m\u001b[37m\u001b[0m \u001b[1m10s\u001b[0m 102ms/step - accuracy: 0.8773 - loss: 0.5146 - val_accuracy: 0.7993 - val_loss: 1.0845\n",
            "Epoch 110/200\n",
            "\u001b[1m63/63\u001b[0m \u001b[32m━━━━━━━━━━━━━━━━━━━━\u001b[0m\u001b[37m\u001b[0m \u001b[1m10s\u001b[0m 93ms/step - accuracy: 0.8783 - loss: 0.5116 - val_accuracy: 0.7991 - val_loss: 1.0850\n",
            "Epoch 111/200\n",
            "\u001b[1m63/63\u001b[0m \u001b[32m━━━━━━━━━━━━━━━━━━━━\u001b[0m\u001b[37m\u001b[0m \u001b[1m6s\u001b[0m 103ms/step - accuracy: 0.8796 - loss: 0.5089 - val_accuracy: 0.7990 - val_loss: 1.0849\n",
            "Epoch 112/200\n",
            "\u001b[1m63/63\u001b[0m \u001b[32m━━━━━━━━━━━━━━━━━━━━\u001b[0m\u001b[37m\u001b[0m \u001b[1m10s\u001b[0m 94ms/step - accuracy: 0.8787 - loss: 0.5089 - val_accuracy: 0.7950 - val_loss: 1.0885\n",
            "Epoch 113/200\n",
            "\u001b[1m63/63\u001b[0m \u001b[32m━━━━━━━━━━━━━━━━━━━━\u001b[0m\u001b[37m\u001b[0m \u001b[1m10s\u001b[0m 93ms/step - accuracy: 0.8778 - loss: 0.5128 - val_accuracy: 0.7991 - val_loss: 1.0839\n",
            "Epoch 114/200\n",
            "\u001b[1m63/63\u001b[0m \u001b[32m━━━━━━━━━━━━━━━━━━━━\u001b[0m\u001b[37m\u001b[0m \u001b[1m10s\u001b[0m 92ms/step - accuracy: 0.8797 - loss: 0.5034 - val_accuracy: 0.7985 - val_loss: 1.0837\n",
            "Epoch 115/200\n",
            "\u001b[1m63/63\u001b[0m \u001b[32m━━━━━━━━━━━━━━━━━━━━\u001b[0m\u001b[37m\u001b[0m \u001b[1m11s\u001b[0m 102ms/step - accuracy: 0.8795 - loss: 0.5033 - val_accuracy: 0.7976 - val_loss: 1.0853\n",
            "Epoch 116/200\n",
            "\u001b[1m63/63\u001b[0m \u001b[32m━━━━━━━━━━━━━━━━━━━━\u001b[0m\u001b[37m\u001b[0m \u001b[1m6s\u001b[0m 103ms/step - accuracy: 0.8788 - loss: 0.5053 - val_accuracy: 0.7992 - val_loss: 1.0856\n",
            "Epoch 117/200\n",
            "\u001b[1m63/63\u001b[0m \u001b[32m━━━━━━━━━━━━━━━━━━━━\u001b[0m\u001b[37m\u001b[0m \u001b[1m10s\u001b[0m 94ms/step - accuracy: 0.8793 - loss: 0.5025 - val_accuracy: 0.7968 - val_loss: 1.0844\n",
            "Epoch 118/200\n",
            "\u001b[1m63/63\u001b[0m \u001b[32m━━━━━━━━━━━━━━━━━━━━\u001b[0m\u001b[37m\u001b[0m \u001b[1m10s\u001b[0m 93ms/step - accuracy: 0.8800 - loss: 0.4988 - val_accuracy: 0.8009 - val_loss: 1.0845\n",
            "Epoch 119/200\n",
            "\u001b[1m63/63\u001b[0m \u001b[32m━━━━━━━━━━━━━━━━━━━━\u001b[0m\u001b[37m\u001b[0m \u001b[1m10s\u001b[0m 93ms/step - accuracy: 0.8806 - loss: 0.4971 - val_accuracy: 0.7982 - val_loss: 1.0823\n",
            "Epoch 120/200\n",
            "\u001b[1m63/63\u001b[0m \u001b[32m━━━━━━━━━━━━━━━━━━━━\u001b[0m\u001b[37m\u001b[0m \u001b[1m6s\u001b[0m 94ms/step - accuracy: 0.8811 - loss: 0.4960 - val_accuracy: 0.7976 - val_loss: 1.0823\n",
            "Epoch 121/200\n",
            "\u001b[1m63/63\u001b[0m \u001b[32m━━━━━━━━━━━━━━━━━━━━\u001b[0m\u001b[37m\u001b[0m \u001b[1m6s\u001b[0m 93ms/step - accuracy: 0.8805 - loss: 0.4959 - val_accuracy: 0.7978 - val_loss: 1.0810\n",
            "Epoch 122/200\n",
            "\u001b[1m63/63\u001b[0m \u001b[32m━━━━━━━━━━━━━━━━━━━━\u001b[0m\u001b[37m\u001b[0m \u001b[1m6s\u001b[0m 94ms/step - accuracy: 0.8806 - loss: 0.4921 - val_accuracy: 0.7994 - val_loss: 1.0837\n",
            "Epoch 123/200\n",
            "\u001b[1m63/63\u001b[0m \u001b[32m━━━━━━━━━━━━━━━━━━━━\u001b[0m\u001b[37m\u001b[0m \u001b[1m10s\u001b[0m 94ms/step - accuracy: 0.8814 - loss: 0.4910 - val_accuracy: 0.7995 - val_loss: 1.0858\n",
            "Epoch 124/200\n",
            "\u001b[1m63/63\u001b[0m \u001b[32m━━━━━━━━━━━━━━━━━━━━\u001b[0m\u001b[37m\u001b[0m \u001b[1m10s\u001b[0m 94ms/step - accuracy: 0.8807 - loss: 0.4886 - val_accuracy: 0.7984 - val_loss: 1.0826\n",
            "Epoch 125/200\n",
            "\u001b[1m63/63\u001b[0m \u001b[32m━━━━━━━━━━━━━━━━━━━━\u001b[0m\u001b[37m\u001b[0m \u001b[1m11s\u001b[0m 102ms/step - accuracy: 0.8826 - loss: 0.4845 - val_accuracy: 0.7981 - val_loss: 1.0840\n",
            "Epoch 126/200\n",
            "\u001b[1m63/63\u001b[0m \u001b[32m━━━━━━━━━━━━━━━━━━━━\u001b[0m\u001b[37m\u001b[0m \u001b[1m10s\u001b[0m 102ms/step - accuracy: 0.8823 - loss: 0.4861 - val_accuracy: 0.7998 - val_loss: 1.0839\n",
            "Epoch 127/200\n",
            "\u001b[1m63/63\u001b[0m \u001b[32m━━━━━━━━━━━━━━━━━━━━\u001b[0m\u001b[37m\u001b[0m \u001b[1m7s\u001b[0m 104ms/step - accuracy: 0.8823 - loss: 0.4873 - val_accuracy: 0.7980 - val_loss: 1.0834\n",
            "Epoch 128/200\n",
            "\u001b[1m63/63\u001b[0m \u001b[32m━━━━━━━━━━━━━━━━━━━━\u001b[0m\u001b[37m\u001b[0m \u001b[1m10s\u001b[0m 104ms/step - accuracy: 0.8821 - loss: 0.4831 - val_accuracy: 0.7987 - val_loss: 1.0827\n",
            "Epoch 129/200\n",
            "\u001b[1m63/63\u001b[0m \u001b[32m━━━━━━━━━━━━━━━━━━━━\u001b[0m\u001b[37m\u001b[0m \u001b[1m6s\u001b[0m 92ms/step - accuracy: 0.8827 - loss: 0.4828 - val_accuracy: 0.8008 - val_loss: 1.0876\n",
            "Epoch 130/200\n",
            "\u001b[1m63/63\u001b[0m \u001b[32m━━━━━━━━━━━━━━━━━━━━\u001b[0m\u001b[37m\u001b[0m \u001b[1m10s\u001b[0m 93ms/step - accuracy: 0.8829 - loss: 0.4832 - val_accuracy: 0.7983 - val_loss: 1.0810\n",
            "Epoch 131/200\n",
            "\u001b[1m63/63\u001b[0m \u001b[32m━━━━━━━━━━━━━━━━━━━━\u001b[0m\u001b[37m\u001b[0m \u001b[1m10s\u001b[0m 93ms/step - accuracy: 0.8836 - loss: 0.4783 - val_accuracy: 0.7991 - val_loss: 1.0806\n",
            "Epoch 132/200\n",
            "\u001b[1m63/63\u001b[0m \u001b[32m━━━━━━━━━━━━━━━━━━━━\u001b[0m\u001b[37m\u001b[0m \u001b[1m6s\u001b[0m 93ms/step - accuracy: 0.8833 - loss: 0.4788 - val_accuracy: 0.8007 - val_loss: 1.0844\n",
            "Epoch 133/200\n",
            "\u001b[1m63/63\u001b[0m \u001b[32m━━━━━━━━━━━━━━━━━━━━\u001b[0m\u001b[37m\u001b[0m \u001b[1m7s\u001b[0m 103ms/step - accuracy: 0.8837 - loss: 0.4771 - val_accuracy: 0.7995 - val_loss: 1.0828\n",
            "Epoch 134/200\n",
            "\u001b[1m63/63\u001b[0m \u001b[32m━━━━━━━━━━━━━━━━━━━━\u001b[0m\u001b[37m\u001b[0m \u001b[1m6s\u001b[0m 93ms/step - accuracy: 0.8831 - loss: 0.4781 - val_accuracy: 0.7972 - val_loss: 1.0822\n",
            "Epoch 135/200\n",
            "\u001b[1m63/63\u001b[0m \u001b[32m━━━━━━━━━━━━━━━━━━━━\u001b[0m\u001b[37m\u001b[0m \u001b[1m11s\u001b[0m 103ms/step - accuracy: 0.8852 - loss: 0.4697 - val_accuracy: 0.7996 - val_loss: 1.0816\n",
            "Epoch 136/200\n",
            "\u001b[1m63/63\u001b[0m \u001b[32m━━━━━━━━━━━━━━━━━━━━\u001b[0m\u001b[37m\u001b[0m \u001b[1m10s\u001b[0m 93ms/step - accuracy: 0.8844 - loss: 0.4686 - val_accuracy: 0.7983 - val_loss: 1.0826\n",
            "Epoch 137/200\n",
            "\u001b[1m63/63\u001b[0m \u001b[32m━━━━━━━━━━━━━━━━━━━━\u001b[0m\u001b[37m\u001b[0m \u001b[1m11s\u001b[0m 103ms/step - accuracy: 0.8852 - loss: 0.4684 - val_accuracy: 0.7986 - val_loss: 1.0831\n",
            "Epoch 138/200\n",
            "\u001b[1m63/63\u001b[0m \u001b[32m━━━━━━━━━━━━━━━━━━━━\u001b[0m\u001b[37m\u001b[0m \u001b[1m10s\u001b[0m 103ms/step - accuracy: 0.8852 - loss: 0.4685 - val_accuracy: 0.7990 - val_loss: 1.0804\n",
            "Epoch 139/200\n",
            "\u001b[1m63/63\u001b[0m \u001b[32m━━━━━━━━━━━━━━━━━━━━\u001b[0m\u001b[37m\u001b[0m \u001b[1m7s\u001b[0m 104ms/step - accuracy: 0.8851 - loss: 0.4654 - val_accuracy: 0.7991 - val_loss: 1.0823\n",
            "Epoch 140/200\n",
            "\u001b[1m63/63\u001b[0m \u001b[32m━━━━━━━━━━━━━━━━━━━━\u001b[0m\u001b[37m\u001b[0m \u001b[1m10s\u001b[0m 94ms/step - accuracy: 0.8854 - loss: 0.4657 - val_accuracy: 0.7988 - val_loss: 1.0812\n",
            "Epoch 141/200\n",
            "\u001b[1m63/63\u001b[0m \u001b[32m━━━━━━━━━━━━━━━━━━━━\u001b[0m\u001b[37m\u001b[0m \u001b[1m10s\u001b[0m 94ms/step - accuracy: 0.8851 - loss: 0.4661 - val_accuracy: 0.7971 - val_loss: 1.0815\n",
            "Epoch 142/200\n",
            "\u001b[1m63/63\u001b[0m \u001b[32m━━━━━━━━━━━━━━━━━━━━\u001b[0m\u001b[37m\u001b[0m \u001b[1m7s\u001b[0m 104ms/step - accuracy: 0.8857 - loss: 0.4648 - val_accuracy: 0.8008 - val_loss: 1.0833\n",
            "Epoch 143/200\n",
            "\u001b[1m63/63\u001b[0m \u001b[32m━━━━━━━━━━━━━━━━━━━━\u001b[0m\u001b[37m\u001b[0m \u001b[1m6s\u001b[0m 93ms/step - accuracy: 0.8849 - loss: 0.4632 - val_accuracy: 0.7979 - val_loss: 1.0828\n",
            "Epoch 144/200\n",
            "\u001b[1m63/63\u001b[0m \u001b[32m━━━━━━━━━━━━━━━━━━━━\u001b[0m\u001b[37m\u001b[0m \u001b[1m6s\u001b[0m 103ms/step - accuracy: 0.8861 - loss: 0.4621 - val_accuracy: 0.7997 - val_loss: 1.0821\n",
            "Epoch 145/200\n",
            "\u001b[1m63/63\u001b[0m \u001b[32m━━━━━━━━━━━━━━━━━━━━\u001b[0m\u001b[37m\u001b[0m \u001b[1m6s\u001b[0m 92ms/step - accuracy: 0.8848 - loss: 0.4631 - val_accuracy: 0.7994 - val_loss: 1.0837\n",
            "Epoch 146/200\n",
            "\u001b[1m63/63\u001b[0m \u001b[32m━━━━━━━━━━━━━━━━━━━━\u001b[0m\u001b[37m\u001b[0m \u001b[1m6s\u001b[0m 93ms/step - accuracy: 0.8869 - loss: 0.4573 - val_accuracy: 0.7997 - val_loss: 1.0843\n",
            "Epoch 147/200\n",
            "\u001b[1m63/63\u001b[0m \u001b[32m━━━━━━━━━━━━━━━━━━━━\u001b[0m\u001b[37m\u001b[0m \u001b[1m10s\u001b[0m 94ms/step - accuracy: 0.8872 - loss: 0.4545 - val_accuracy: 0.7990 - val_loss: 1.0826\n",
            "Epoch 148/200\n",
            "\u001b[1m63/63\u001b[0m \u001b[32m━━━━━━━━━━━━━━━━━━━━\u001b[0m\u001b[37m\u001b[0m \u001b[1m6s\u001b[0m 102ms/step - accuracy: 0.8875 - loss: 0.4547 - val_accuracy: 0.7995 - val_loss: 1.0797\n",
            "Epoch 149/200\n",
            "\u001b[1m63/63\u001b[0m \u001b[32m━━━━━━━━━━━━━━━━━━━━\u001b[0m\u001b[37m\u001b[0m \u001b[1m6s\u001b[0m 103ms/step - accuracy: 0.8877 - loss: 0.4509 - val_accuracy: 0.7977 - val_loss: 1.0825\n",
            "Epoch 150/200\n",
            "\u001b[1m63/63\u001b[0m \u001b[32m━━━━━━━━━━━━━━━━━━━━\u001b[0m\u001b[37m\u001b[0m \u001b[1m6s\u001b[0m 102ms/step - accuracy: 0.8872 - loss: 0.4532 - val_accuracy: 0.7991 - val_loss: 1.0801\n",
            "Epoch 151/200\n",
            "\u001b[1m63/63\u001b[0m \u001b[32m━━━━━━━━━━━━━━━━━━━━\u001b[0m\u001b[37m\u001b[0m \u001b[1m7s\u001b[0m 103ms/step - accuracy: 0.8865 - loss: 0.4526 - val_accuracy: 0.8002 - val_loss: 1.0836\n",
            "Epoch 152/200\n",
            "\u001b[1m63/63\u001b[0m \u001b[32m━━━━━━━━━━━━━━━━━━━━\u001b[0m\u001b[37m\u001b[0m \u001b[1m10s\u001b[0m 104ms/step - accuracy: 0.8876 - loss: 0.4492 - val_accuracy: 0.8008 - val_loss: 1.0841\n",
            "Epoch 153/200\n",
            "\u001b[1m63/63\u001b[0m \u001b[32m━━━━━━━━━━━━━━━━━━━━\u001b[0m\u001b[37m\u001b[0m \u001b[1m10s\u001b[0m 103ms/step - accuracy: 0.8876 - loss: 0.4483 - val_accuracy: 0.7989 - val_loss: 1.0817\n",
            "Epoch 154/200\n",
            "\u001b[1m63/63\u001b[0m \u001b[32m━━━━━━━━━━━━━━━━━━━━\u001b[0m\u001b[37m\u001b[0m \u001b[1m10s\u001b[0m 103ms/step - accuracy: 0.8875 - loss: 0.4467 - val_accuracy: 0.7999 - val_loss: 1.0816\n",
            "Epoch 155/200\n",
            "\u001b[1m63/63\u001b[0m \u001b[32m━━━━━━━━━━━━━━━━━━━━\u001b[0m\u001b[37m\u001b[0m \u001b[1m10s\u001b[0m 103ms/step - accuracy: 0.8892 - loss: 0.4444 - val_accuracy: 0.7990 - val_loss: 1.0811\n",
            "Epoch 156/200\n",
            "\u001b[1m63/63\u001b[0m \u001b[32m━━━━━━━━━━━━━━━━━━━━\u001b[0m\u001b[37m\u001b[0m \u001b[1m10s\u001b[0m 102ms/step - accuracy: 0.8885 - loss: 0.4435 - val_accuracy: 0.8004 - val_loss: 1.0819\n",
            "Epoch 157/200\n",
            "\u001b[1m63/63\u001b[0m \u001b[32m━━━━━━━━━━━━━━━━━━━━\u001b[0m\u001b[37m\u001b[0m \u001b[1m6s\u001b[0m 94ms/step - accuracy: 0.8890 - loss: 0.4437 - val_accuracy: 0.7986 - val_loss: 1.0823\n",
            "Epoch 158/200\n",
            "\u001b[1m63/63\u001b[0m \u001b[32m━━━━━━━━━━━━━━━━━━━━\u001b[0m\u001b[37m\u001b[0m \u001b[1m11s\u001b[0m 104ms/step - accuracy: 0.8888 - loss: 0.4403 - val_accuracy: 0.7984 - val_loss: 1.0829\n",
            "Epoch 159/200\n",
            "\u001b[1m63/63\u001b[0m \u001b[32m━━━━━━━━━━━━━━━━━━━━\u001b[0m\u001b[37m\u001b[0m \u001b[1m10s\u001b[0m 103ms/step - accuracy: 0.8887 - loss: 0.4399 - val_accuracy: 0.8004 - val_loss: 1.0809\n",
            "Epoch 160/200\n",
            "\u001b[1m63/63\u001b[0m \u001b[32m━━━━━━━━━━━━━━━━━━━━\u001b[0m\u001b[37m\u001b[0m \u001b[1m10s\u001b[0m 102ms/step - accuracy: 0.8885 - loss: 0.4401 - val_accuracy: 0.7999 - val_loss: 1.0824\n",
            "Epoch 161/200\n",
            "\u001b[1m63/63\u001b[0m \u001b[32m━━━━━━━━━━━━━━━━━━━━\u001b[0m\u001b[37m\u001b[0m \u001b[1m10s\u001b[0m 102ms/step - accuracy: 0.8899 - loss: 0.4379 - val_accuracy: 0.7986 - val_loss: 1.0818\n",
            "Epoch 162/200\n",
            "\u001b[1m63/63\u001b[0m \u001b[32m━━━━━━━━━━━━━━━━━━━━\u001b[0m\u001b[37m\u001b[0m \u001b[1m7s\u001b[0m 104ms/step - accuracy: 0.8897 - loss: 0.4357 - val_accuracy: 0.7965 - val_loss: 1.0834\n",
            "Epoch 163/200\n",
            "\u001b[1m63/63\u001b[0m \u001b[32m━━━━━━━━━━━━━━━━━━━━\u001b[0m\u001b[37m\u001b[0m \u001b[1m6s\u001b[0m 103ms/step - accuracy: 0.8896 - loss: 0.4352 - val_accuracy: 0.8004 - val_loss: 1.0822\n",
            "Epoch 164/200\n",
            "\u001b[1m63/63\u001b[0m \u001b[32m━━━━━━━━━━━━━━━━━━━━\u001b[0m\u001b[37m\u001b[0m \u001b[1m10s\u001b[0m 93ms/step - accuracy: 0.8905 - loss: 0.4323 - val_accuracy: 0.7974 - val_loss: 1.0827\n",
            "Epoch 165/200\n",
            "\u001b[1m63/63\u001b[0m \u001b[32m━━━━━━━━━━━━━━━━━━━━\u001b[0m\u001b[37m\u001b[0m \u001b[1m7s\u001b[0m 104ms/step - accuracy: 0.8908 - loss: 0.4316 - val_accuracy: 0.7998 - val_loss: 1.0815\n",
            "Epoch 166/200\n",
            "\u001b[1m63/63\u001b[0m \u001b[32m━━━━━━━━━━━━━━━━━━━━\u001b[0m\u001b[37m\u001b[0m \u001b[1m6s\u001b[0m 93ms/step - accuracy: 0.8905 - loss: 0.4311 - val_accuracy: 0.7983 - val_loss: 1.0834\n",
            "Epoch 167/200\n",
            "\u001b[1m63/63\u001b[0m \u001b[32m━━━━━━━━━━━━━━━━━━━━\u001b[0m\u001b[37m\u001b[0m \u001b[1m11s\u001b[0m 102ms/step - accuracy: 0.8908 - loss: 0.4303 - val_accuracy: 0.7996 - val_loss: 1.0842\n",
            "Epoch 168/200\n",
            "\u001b[1m63/63\u001b[0m \u001b[32m━━━━━━━━━━━━━━━━━━━━\u001b[0m\u001b[37m\u001b[0m \u001b[1m6s\u001b[0m 93ms/step - accuracy: 0.8903 - loss: 0.4316 - val_accuracy: 0.8022 - val_loss: 1.0862\n",
            "Epoch 169/200\n",
            "\u001b[1m63/63\u001b[0m \u001b[32m━━━━━━━━━━━━━━━━━━━━\u001b[0m\u001b[37m\u001b[0m \u001b[1m6s\u001b[0m 102ms/step - accuracy: 0.8919 - loss: 0.4259 - val_accuracy: 0.7984 - val_loss: 1.0816\n",
            "Epoch 170/200\n",
            "\u001b[1m63/63\u001b[0m \u001b[32m━━━━━━━━━━━━━━━━━━━━\u001b[0m\u001b[37m\u001b[0m \u001b[1m10s\u001b[0m 93ms/step - accuracy: 0.8909 - loss: 0.4261 - val_accuracy: 0.7998 - val_loss: 1.0824\n",
            "Epoch 171/200\n",
            "\u001b[1m63/63\u001b[0m \u001b[32m━━━━━━━━━━━━━━━━━━━━\u001b[0m\u001b[37m\u001b[0m \u001b[1m10s\u001b[0m 94ms/step - accuracy: 0.8910 - loss: 0.4272 - val_accuracy: 0.8009 - val_loss: 1.0837\n",
            "Epoch 172/200\n",
            "\u001b[1m63/63\u001b[0m \u001b[32m━━━━━━━━━━━━━━━━━━━━\u001b[0m\u001b[37m\u001b[0m \u001b[1m6s\u001b[0m 93ms/step - accuracy: 0.8914 - loss: 0.4235 - val_accuracy: 0.7994 - val_loss: 1.0845\n",
            "Epoch 173/200\n",
            "\u001b[1m63/63\u001b[0m \u001b[32m━━━━━━━━━━━━━━━━━━━━\u001b[0m\u001b[37m\u001b[0m \u001b[1m6s\u001b[0m 103ms/step - accuracy: 0.8911 - loss: 0.4251 - val_accuracy: 0.8006 - val_loss: 1.0838\n",
            "Epoch 174/200\n",
            "\u001b[1m63/63\u001b[0m \u001b[32m━━━━━━━━━━━━━━━━━━━━\u001b[0m\u001b[37m\u001b[0m \u001b[1m6s\u001b[0m 93ms/step - accuracy: 0.8917 - loss: 0.4225 - val_accuracy: 0.8007 - val_loss: 1.0829\n",
            "Epoch 175/200\n",
            "\u001b[1m63/63\u001b[0m \u001b[32m━━━━━━━━━━━━━━━━━━━━\u001b[0m\u001b[37m\u001b[0m \u001b[1m7s\u001b[0m 103ms/step - accuracy: 0.8915 - loss: 0.4224 - val_accuracy: 0.8011 - val_loss: 1.0851\n",
            "Epoch 176/200\n",
            "\u001b[1m63/63\u001b[0m \u001b[32m━━━━━━━━━━━━━━━━━━━━\u001b[0m\u001b[37m\u001b[0m \u001b[1m10s\u001b[0m 104ms/step - accuracy: 0.8925 - loss: 0.4177 - val_accuracy: 0.8005 - val_loss: 1.0824\n",
            "Epoch 177/200\n",
            "\u001b[1m63/63\u001b[0m \u001b[32m━━━━━━━━━━━━━━━━━━━━\u001b[0m\u001b[37m\u001b[0m \u001b[1m10s\u001b[0m 94ms/step - accuracy: 0.8931 - loss: 0.4177 - val_accuracy: 0.8007 - val_loss: 1.0830\n",
            "Epoch 178/200\n",
            "\u001b[1m63/63\u001b[0m \u001b[32m━━━━━━━━━━━━━━━━━━━━\u001b[0m\u001b[37m\u001b[0m \u001b[1m11s\u001b[0m 102ms/step - accuracy: 0.8917 - loss: 0.4201 - val_accuracy: 0.7983 - val_loss: 1.0854\n",
            "Epoch 179/200\n",
            "\u001b[1m63/63\u001b[0m \u001b[32m━━━━━━━━━━━━━━━━━━━━\u001b[0m\u001b[37m\u001b[0m \u001b[1m10s\u001b[0m 103ms/step - accuracy: 0.8922 - loss: 0.4190 - val_accuracy: 0.8014 - val_loss: 1.0862\n",
            "Epoch 180/200\n",
            "\u001b[1m63/63\u001b[0m \u001b[32m━━━━━━━━━━━━━━━━━━━━\u001b[0m\u001b[37m\u001b[0m \u001b[1m10s\u001b[0m 103ms/step - accuracy: 0.8936 - loss: 0.4137 - val_accuracy: 0.8005 - val_loss: 1.0812\n",
            "Epoch 181/200\n",
            "\u001b[1m63/63\u001b[0m \u001b[32m━━━━━━━━━━━━━━━━━━━━\u001b[0m\u001b[37m\u001b[0m \u001b[1m10s\u001b[0m 103ms/step - accuracy: 0.8936 - loss: 0.4110 - val_accuracy: 0.8004 - val_loss: 1.0832\n",
            "Epoch 182/200\n",
            "\u001b[1m63/63\u001b[0m \u001b[32m━━━━━━━━━━━━━━━━━━━━\u001b[0m\u001b[37m\u001b[0m \u001b[1m10s\u001b[0m 103ms/step - accuracy: 0.8931 - loss: 0.4152 - val_accuracy: 0.8008 - val_loss: 1.0839\n",
            "Epoch 183/200\n",
            "\u001b[1m63/63\u001b[0m \u001b[32m━━━━━━━━━━━━━━━━━━━━\u001b[0m\u001b[37m\u001b[0m \u001b[1m7s\u001b[0m 104ms/step - accuracy: 0.8939 - loss: 0.4108 - val_accuracy: 0.8004 - val_loss: 1.0818\n",
            "Epoch 184/200\n",
            "\u001b[1m63/63\u001b[0m \u001b[32m━━━━━━━━━━━━━━━━━━━━\u001b[0m\u001b[37m\u001b[0m \u001b[1m10s\u001b[0m 94ms/step - accuracy: 0.8929 - loss: 0.4109 - val_accuracy: 0.8004 - val_loss: 1.0838\n",
            "Epoch 185/200\n",
            "\u001b[1m63/63\u001b[0m \u001b[32m━━━━━━━━━━━━━━━━━━━━\u001b[0m\u001b[37m\u001b[0m \u001b[1m10s\u001b[0m 93ms/step - accuracy: 0.8948 - loss: 0.4053 - val_accuracy: 0.7997 - val_loss: 1.0818\n",
            "Epoch 186/200\n",
            "\u001b[1m63/63\u001b[0m \u001b[32m━━━━━━━━━━━━━━━━━━━━\u001b[0m\u001b[37m\u001b[0m \u001b[1m7s\u001b[0m 104ms/step - accuracy: 0.8940 - loss: 0.4076 - val_accuracy: 0.8021 - val_loss: 1.0829\n",
            "Epoch 187/200\n",
            "\u001b[1m63/63\u001b[0m \u001b[32m━━━━━━━━━━━━━━━━━━━━\u001b[0m\u001b[37m\u001b[0m \u001b[1m6s\u001b[0m 102ms/step - accuracy: 0.8941 - loss: 0.4064 - val_accuracy: 0.8023 - val_loss: 1.0832\n",
            "Epoch 188/200\n",
            "\u001b[1m63/63\u001b[0m \u001b[32m━━━━━━━━━━━━━━━━━━━━\u001b[0m\u001b[37m\u001b[0m \u001b[1m10s\u001b[0m 103ms/step - accuracy: 0.8940 - loss: 0.4066 - val_accuracy: 0.8019 - val_loss: 1.0843\n",
            "Epoch 189/200\n",
            "\u001b[1m63/63\u001b[0m \u001b[32m━━━━━━━━━━━━━━━━━━━━\u001b[0m\u001b[37m\u001b[0m \u001b[1m6s\u001b[0m 94ms/step - accuracy: 0.8949 - loss: 0.4014 - val_accuracy: 0.7994 - val_loss: 1.0843\n",
            "Epoch 190/200\n",
            "\u001b[1m63/63\u001b[0m \u001b[32m━━━━━━━━━━━━━━━━━━━━\u001b[0m\u001b[37m\u001b[0m \u001b[1m6s\u001b[0m 93ms/step - accuracy: 0.8947 - loss: 0.4025 - val_accuracy: 0.8018 - val_loss: 1.0831\n",
            "Epoch 191/200\n",
            "\u001b[1m63/63\u001b[0m \u001b[32m━━━━━━━━━━━━━━━━━━━━\u001b[0m\u001b[37m\u001b[0m \u001b[1m10s\u001b[0m 93ms/step - accuracy: 0.8946 - loss: 0.4050 - val_accuracy: 0.8006 - val_loss: 1.0828\n",
            "Epoch 192/200\n",
            "\u001b[1m63/63\u001b[0m \u001b[32m━━━━━━━━━━━━━━━━━━━━\u001b[0m\u001b[37m\u001b[0m \u001b[1m10s\u001b[0m 93ms/step - accuracy: 0.8949 - loss: 0.3998 - val_accuracy: 0.8005 - val_loss: 1.0828\n",
            "Epoch 193/200\n",
            "\u001b[1m63/63\u001b[0m \u001b[32m━━━━━━━━━━━━━━━━━━━━\u001b[0m\u001b[37m\u001b[0m \u001b[1m6s\u001b[0m 95ms/step - accuracy: 0.8950 - loss: 0.4024 - val_accuracy: 0.8008 - val_loss: 1.0841\n",
            "Epoch 194/200\n",
            "\u001b[1m63/63\u001b[0m \u001b[32m━━━━━━━━━━━━━━━━━━━━\u001b[0m\u001b[37m\u001b[0m \u001b[1m6s\u001b[0m 103ms/step - accuracy: 0.8953 - loss: 0.3987 - val_accuracy: 0.8003 - val_loss: 1.0824\n",
            "Epoch 195/200\n",
            "\u001b[1m63/63\u001b[0m \u001b[32m━━━━━━━━━━━━━━━━━━━━\u001b[0m\u001b[37m\u001b[0m \u001b[1m6s\u001b[0m 95ms/step - accuracy: 0.8971 - loss: 0.3952 - val_accuracy: 0.8014 - val_loss: 1.0854\n",
            "Epoch 196/200\n",
            "\u001b[1m63/63\u001b[0m \u001b[32m━━━━━━━━━━━━━━━━━━━━\u001b[0m\u001b[37m\u001b[0m \u001b[1m6s\u001b[0m 103ms/step - accuracy: 0.8958 - loss: 0.3974 - val_accuracy: 0.8019 - val_loss: 1.0885\n",
            "Epoch 197/200\n",
            "\u001b[1m63/63\u001b[0m \u001b[32m━━━━━━━━━━━━━━━━━━━━\u001b[0m\u001b[37m\u001b[0m \u001b[1m10s\u001b[0m 93ms/step - accuracy: 0.8953 - loss: 0.3945 - val_accuracy: 0.8019 - val_loss: 1.0859\n",
            "Epoch 198/200\n",
            "\u001b[1m63/63\u001b[0m \u001b[32m━━━━━━━━━━━━━━━━━━━━\u001b[0m\u001b[37m\u001b[0m \u001b[1m6s\u001b[0m 102ms/step - accuracy: 0.8960 - loss: 0.3974 - val_accuracy: 0.8005 - val_loss: 1.0852\n",
            "Epoch 199/200\n",
            "\u001b[1m63/63\u001b[0m \u001b[32m━━━━━━━━━━━━━━━━━━━━\u001b[0m\u001b[37m\u001b[0m \u001b[1m7s\u001b[0m 103ms/step - accuracy: 0.8956 - loss: 0.3947 - val_accuracy: 0.7989 - val_loss: 1.0864\n",
            "Epoch 200/200\n",
            "\u001b[1m63/63\u001b[0m \u001b[32m━━━━━━━━━━━━━━━━━━━━\u001b[0m\u001b[37m\u001b[0m \u001b[1m7s\u001b[0m 104ms/step - accuracy: 0.8950 - loss: 0.3972 - val_accuracy: 0.8016 - val_loss: 1.0829\n"
          ]
        },
        {
          "output_type": "stream",
          "name": "stderr",
          "text": [
            "2025/04/06 17:18:31 WARNING mlflow.keras.save: You are saving a Keras model without specifying model signature.\n",
            "\u001b[31m2025/04/06 17:18:38 WARNING mlflow.models.model: Model logged without a signature and input example. Please set `input_example` parameter when logging the model to auto infer the model signature.\u001b[0m\n"
          ]
        }
      ]
    }
  ],
  "metadata": {
    "kernelspec": {
      "display_name": "Python 3",
      "name": "python3"
    },
    "language_info": {
      "codemirror_mode": {
        "name": "ipython",
        "version": 3
      },
      "file_extension": ".py",
      "mimetype": "text/x-python",
      "name": "python",
      "nbconvert_exporter": "python",
      "pygments_lexer": "ipython3",
      "version": "3.12.7"
    },
    "colab": {
      "provenance": [],
      "gpuType": "T4",
      "include_colab_link": true
    },
    "accelerator": "GPU"
  },
  "nbformat": 4,
  "nbformat_minor": 5
}